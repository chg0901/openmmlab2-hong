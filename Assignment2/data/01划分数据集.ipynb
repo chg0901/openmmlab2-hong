{
 "cells": [
  {
   "cell_type": "markdown",
   "id": "bab6e3ae-86c3-4855-bdb1-236759cfeca4",
   "metadata": {},
   "source": [
    "# 划分训练集、验证集（7：3）"
   ]
  },
  {
   "cell_type": "code",
   "execution_count": 1,
   "id": "b9fa4a95-f344-452a-bfc6-e4d86fc89546",
   "metadata": {},
   "outputs": [
    {
     "name": "stdout",
     "output_type": "stream",
     "text": [
      "complete！！！\n"
     ]
    }
   ],
   "source": [
    "import os\n",
    "import shutil\n",
    "import random\n",
    "\n",
    "# 定义数据集路径和保存路径\n",
    "data_dir = 'fruit30_train'\n",
    "new_data_dir = 'fruit30_dataset'\n",
    "os.makedirs(new_data_dir, exist_ok=True)\n",
    "\n",
    "train_dir = os.path.join(new_data_dir, 'training_set')\n",
    "val_dir = os.path.join(new_data_dir, 'val_set')\n",
    "\n",
    "# 定义训练集和验证集的比例\n",
    "train_ratio = 0.7\n",
    "val_ratio = 0.3\n",
    "\n",
    "# 创建保存路径\n",
    "os.makedirs(train_dir, exist_ok=True)\n",
    "os.makedirs(val_dir, exist_ok=True)\n",
    "\n",
    "# 获取数据集中所有子文件夹的名称\n",
    "subdirs = os.listdir(data_dir)\n",
    "\n",
    "# 遍历所有子文件夹\n",
    "for subdir in subdirs:\n",
    "    subdir_path = os.path.join(data_dir, subdir)\n",
    "    if os.path.isdir(subdir_path):\n",
    "        # 获取当前子文件夹中所有图像的文件名\n",
    "        images = os.listdir(subdir_path)\n",
    "        # 随机打乱图像的顺序\n",
    "        random.shuffle(images)\n",
    "        # 计算训练集和验证集的大小\n",
    "        num_images = len(images)\n",
    "        num_train = int(train_ratio * num_images)\n",
    "        num_val = int(val_ratio * num_images)\n",
    "        # 将图像按比例划分为训练集和验证集\n",
    "        train_images = images[:num_train]\n",
    "        val_images = images[num_train:num_train+num_val]\n",
    "        # 将划分好的训练集和验证集保存到对应的文件夹中\n",
    "        for image in train_images:\n",
    "            src_path = os.path.join(subdir_path, image)\n",
    "            dst_path = os.path.join(train_dir, subdir, image)\n",
    "            os.makedirs(os.path.dirname(dst_path), exist_ok=True)\n",
    "            shutil.copy(src_path, dst_path)\n",
    "        for image in val_images:\n",
    "            src_path = os.path.join(subdir_path, image)\n",
    "            dst_path = os.path.join(val_dir, subdir, image)\n",
    "            os.makedirs(os.path.dirname(dst_path), exist_ok=True)\n",
    "            shutil.copy(src_path, dst_path)\n",
    "print('complete！！！')"
   ]
  },
  {
   "cell_type": "code",
   "execution_count": null,
   "id": "4c5a068d-bcd1-4dc5-9abd-1b96f55e17a3",
   "metadata": {},
   "outputs": [],
   "source": [
    "# 最终划分后的数据集保存至fruit30_dataset"
   ]
  }
 ],
 "metadata": {
  "kernelspec": {
   "display_name": "myconda",
   "language": "python",
   "name": "myconda"
  },
  "language_info": {
   "codemirror_mode": {
    "name": "ipython",
    "version": 3
   },
   "file_extension": ".py",
   "mimetype": "text/x-python",
   "name": "python",
   "nbconvert_exporter": "python",
   "pygments_lexer": "ipython3",
   "version": "3.9.13"
  }
 },
 "nbformat": 4,
 "nbformat_minor": 5
}
