{
 "cells": [
  {
   "cell_type": "markdown",
   "id": "c61211b3-6d79-4f9b-8cad-9cd42cac4c8d",
   "metadata": {},
   "source": [
    "# 三角板关键点检测-下载config配置文件\n",
    "\n",
    "同济子豪兄 2023-4-6 5-23"
   ]
  },
  {
   "cell_type": "markdown",
   "id": "5bbb24a2-6d24-47cb-93b1-abe14d0523e8",
   "metadata": {
    "tags": []
   },
   "source": [
    "## 进入 mmpose 主目录"
   ]
  },
  {
   "cell_type": "code",
   "execution_count": 1,
   "id": "dbbd6d2c-878d-43c3-bec4-d4f4fe94efd4",
   "metadata": {},
   "outputs": [],
   "source": [
    "import os\n",
    "os.chdir('mmpose')"
   ]
  },
  {
   "cell_type": "markdown",
   "id": "4987be2c-d1e5-407a-886c-b1aaa93881df",
   "metadata": {},
   "source": [
    "## 下载config配置文件至`data`目录"
   ]
  },
  {
   "cell_type": "code",
   "execution_count": 2,
   "id": "c8c8bd5b-d987-4275-9245-a259ffd4d663",
   "metadata": {},
   "outputs": [
    {
     "name": "stdout",
     "output_type": "stream",
     "text": [
      "--2023-06-04 12:31:09--  https://zihao-openmmlab.obs.cn-east-3.myhuaweicloud.com/20220610-mmpose/triangle_dataset/rtmpose-s-triangle.py\n",
      "正在解析主机 zihao-openmmlab.obs.cn-east-3.myhuaweicloud.com (zihao-openmmlab.obs.cn-east-3.myhuaweicloud.com)... 121.36.235.132\n",
      "正在连接 zihao-openmmlab.obs.cn-east-3.myhuaweicloud.com (zihao-openmmlab.obs.cn-east-3.myhuaweicloud.com)|121.36.235.132|:443... 已连接。\n",
      "已发出 HTTP 请求，正在等待回应... 200 OK\n",
      "长度： 13044 (13K) [binary/octet-stream]\n",
      "正在保存至: ‘data/rtmpose-s-triangle.py’\n",
      "\n",
      "rtmpose-s-triangle. 100%[===================>]  12.74K  --.-KB/s    用时 0.008s  \n",
      "\n",
      "2023-06-04 12:31:10 (1.49 MB/s) - 已保存 ‘data/rtmpose-s-triangle.py’ [13044/13044])\n",
      "\n"
     ]
    }
   ],
   "source": [
    "!rm -rf data/rtmpose-s-triangle.py\n",
    "!wget https://zihao-openmmlab.obs.cn-east-3.myhuaweicloud.com/20220610-mmpose/triangle_dataset/rtmpose-s-triangle.py -P data\n"
   ]
  },
  {
   "cell_type": "code",
   "execution_count": null,
   "id": "f3417a1f-7fb3-4642-a739-c6006e81646f",
   "metadata": {},
   "outputs": [],
   "source": []
  }
 ],
 "metadata": {
  "kernelspec": {
   "display_name": "Python 3 (ipykernel)",
   "language": "python",
   "name": "python3"
  },
  "language_info": {
   "codemirror_mode": {
    "name": "ipython",
    "version": 3
   },
   "file_extension": ".py",
   "mimetype": "text/x-python",
   "name": "python",
   "nbconvert_exporter": "python",
   "pygments_lexer": "ipython3",
   "version": "3.8.16"
  }
 },
 "nbformat": 4,
 "nbformat_minor": 5
}
