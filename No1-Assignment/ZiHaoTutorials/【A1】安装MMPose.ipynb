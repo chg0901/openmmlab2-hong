{
 "cells": [
  {
   "cell_type": "markdown",
   "id": "bc3d1961-9081-49c9-be56-ad0c748decf1",
   "metadata": {},
   "source": [
    "# 安装MMPose"
   ]
  },
  {
   "cell_type": "markdown",
   "id": "0fc8ebd8-db6e-4a17-895f-2f87fc98ca79",
   "metadata": {},
   "source": [
    "按照顺序逐行运行本代码，即可安装配置 MMPose 环境\n",
    "\n",
    "推荐代码运行[云GPU环境](https://featurize.cn?s=d7ce99f842414bfcaea5662a97581bd1)：GPU RTX 3060、CUDA v11.2\n",
    "\n",
    "作者：同济子豪兄 2023-3-31"
   ]
  },
  {
   "cell_type": "markdown",
   "id": "63d0dc47-4601-49a3-8d25-12b4d24fa6f0",
   "metadata": {},
   "source": [
    "> 提示：以下代码运行时，若长时间运行卡着不动，可重启 kernel 后重新运行一遍"
   ]
  },
  {
   "cell_type": "markdown",
   "id": "6fc1c686-1267-4503-b9e4-bcb188a7f974",
   "metadata": {
    "tags": []
   },
   "source": [
    "## 安装Pytorch"
   ]
  },
  {
   "cell_type": "code",
   "execution_count": 1,
   "id": "2fef57fc-d5f0-4cd0-a134-1f025c15439f",
   "metadata": {},
   "outputs": [
    {
     "name": "stdout",
     "output_type": "stream",
     "text": [
      "Looking in links: https://download.pytorch.org/whl/cu113/torch_stable.html\n",
      "Collecting install\n",
      "  Using cached install-1.3.5-py3-none-any.whl (3.2 kB)\n",
      "Collecting torch==1.10.1+cu113\n",
      "  Using cached https://download.pytorch.org/whl/cu113/torch-1.10.1%2Bcu113-cp38-cp38-linux_x86_64.whl (1821.4 MB)\n",
      "Collecting torchvision==0.11.2+cu113\n",
      "  Using cached https://download.pytorch.org/whl/cu113/torchvision-0.11.2%2Bcu113-cp38-cp38-linux_x86_64.whl (24.6 MB)\n",
      "Collecting torchaudio==0.10.1+cu113\n",
      "  Using cached https://download.pytorch.org/whl/cu113/torchaudio-0.10.1%2Bcu113-cp38-cp38-linux_x86_64.whl (2.9 MB)\n",
      "Requirement already satisfied: typing-extensions in /home/cine/miniconda3/envs/openmmlab-pose/lib/python3.8/site-packages (from torch==1.10.1+cu113) (4.6.3)\n",
      "Collecting numpy\n",
      "  Downloading numpy-1.24.3-cp38-cp38-manylinux_2_17_x86_64.manylinux2014_x86_64.whl (17.3 MB)\n",
      "\u001b[2K     \u001b[90m━━━━━━━━━━━━━━━━━━━━━━━━━━━━━━━━━━━━━━━━\u001b[0m \u001b[32m17.3/17.3 MB\u001b[0m \u001b[31m10.3 MB/s\u001b[0m eta \u001b[36m0:00:00\u001b[0m00:01\u001b[0m00:01\u001b[0m\n",
      "\u001b[?25hCollecting pillow!=8.3.0,>=5.3.0\n",
      "  Downloading Pillow-9.5.0-cp38-cp38-manylinux_2_28_x86_64.whl (3.4 MB)\n",
      "\u001b[2K     \u001b[90m━━━━━━━━━━━━━━━━━━━━━━━━━━━━━━━━━━━━━━━━\u001b[0m \u001b[32m3.4/3.4 MB\u001b[0m \u001b[31m11.0 MB/s\u001b[0m eta \u001b[36m0:00:00\u001b[0ma \u001b[36m0:00:01\u001b[0m\n",
      "\u001b[?25hInstalling collected packages: torch, pillow, numpy, install, torchvision, torchaudio\n",
      "Successfully installed install-1.3.5 numpy-1.24.3 pillow-9.5.0 torch-1.10.1+cu113 torchaudio-0.10.1+cu113 torchvision-0.11.2+cu113\n"
     ]
    }
   ],
   "source": [
    "# 安装 Pytorch\n",
    "!pip3 install install torch==1.10.1+cu113 torchvision==0.11.2+cu113 torchaudio==0.10.1+cu113 -f https://download.pytorch.org/whl/cu113/torch_stable.html\n"
   ]
  },
  {
   "cell_type": "markdown",
   "id": "054b64e4-4796-4136-b45e-3664b281cf30",
   "metadata": {},
   "source": [
    "## 用MIM安装MMCV"
   ]
  },
  {
   "cell_type": "code",
   "execution_count": 2,
   "id": "83b1c9e3-0d69-423d-a8a2-172d18dfdb33",
   "metadata": {
    "scrolled": true
   },
   "outputs": [
    {
     "name": "stdout",
     "output_type": "stream",
     "text": [
      "Collecting openmim\n",
      "  Downloading openmim-0.3.7-py2.py3-none-any.whl (51 kB)\n",
      "\u001b[2K     \u001b[90m━━━━━━━━━━━━━━━━━━━━━━━━━━━━━━━━━━━━━━━━\u001b[0m \u001b[32m51.3/51.3 kB\u001b[0m \u001b[31m4.6 MB/s\u001b[0m eta \u001b[36m0:00:00\u001b[0m\n",
      "\u001b[?25hCollecting colorama\n",
      "  Using cached colorama-0.4.6-py2.py3-none-any.whl (25 kB)\n",
      "Collecting tabulate\n",
      "  Using cached tabulate-0.9.0-py3-none-any.whl (35 kB)\n",
      "Requirement already satisfied: pip>=19.3 in /home/cine/miniconda3/envs/openmmlab-pose/lib/python3.8/site-packages (from openmim) (23.0.1)\n",
      "Requirement already satisfied: requests in /home/cine/miniconda3/envs/openmmlab-pose/lib/python3.8/site-packages (from openmim) (2.31.0)\n",
      "Collecting model-index\n",
      "  Using cached model_index-0.1.11-py3-none-any.whl (34 kB)\n",
      "Collecting pandas\n",
      "  Downloading pandas-2.0.2-cp38-cp38-manylinux_2_17_x86_64.manylinux2014_x86_64.whl (12.3 MB)\n",
      "\u001b[2K     \u001b[90m━━━━━━━━━━━━━━━━━━━━━━━━━━━━━━━━━━━━━━━━\u001b[0m \u001b[32m12.3/12.3 MB\u001b[0m \u001b[31m8.2 MB/s\u001b[0m eta \u001b[36m0:00:00\u001b[0m00:01\u001b[0m00:01\u001b[0m\n",
      "\u001b[?25hCollecting rich\n",
      "  Downloading rich-13.4.1-py3-none-any.whl (239 kB)\n",
      "\u001b[2K     \u001b[90m━━━━━━━━━━━━━━━━━━━━━━━━━━━━━━━━━━━━━━━\u001b[0m \u001b[32m239.4/239.4 kB\u001b[0m \u001b[31m8.5 MB/s\u001b[0m eta \u001b[36m0:00:00\u001b[0m\n",
      "\u001b[?25hCollecting Click\n",
      "  Using cached click-8.1.3-py3-none-any.whl (96 kB)\n",
      "Collecting markdown\n",
      "  Using cached Markdown-3.4.3-py3-none-any.whl (93 kB)\n",
      "Requirement already satisfied: pyyaml in /home/cine/miniconda3/envs/openmmlab-pose/lib/python3.8/site-packages (from model-index->openmim) (6.0)\n",
      "Collecting ordered-set\n",
      "  Using cached ordered_set-4.1.0-py3-none-any.whl (7.6 kB)\n",
      "Collecting tzdata>=2022.1\n",
      "  Using cached tzdata-2023.3-py2.py3-none-any.whl (341 kB)\n",
      "Requirement already satisfied: numpy>=1.20.3 in /home/cine/miniconda3/envs/openmmlab-pose/lib/python3.8/site-packages (from pandas->openmim) (1.24.3)\n",
      "Requirement already satisfied: python-dateutil>=2.8.2 in /home/cine/miniconda3/envs/openmmlab-pose/lib/python3.8/site-packages (from pandas->openmim) (2.8.2)\n",
      "Requirement already satisfied: pytz>=2020.1 in /home/cine/miniconda3/envs/openmmlab-pose/lib/python3.8/site-packages (from pandas->openmim) (2023.3)\n",
      "Requirement already satisfied: urllib3<3,>=1.21.1 in /home/cine/miniconda3/envs/openmmlab-pose/lib/python3.8/site-packages (from requests->openmim) (2.0.2)\n",
      "Requirement already satisfied: charset-normalizer<4,>=2 in /home/cine/miniconda3/envs/openmmlab-pose/lib/python3.8/site-packages (from requests->openmim) (3.1.0)\n",
      "Requirement already satisfied: idna<4,>=2.5 in /home/cine/miniconda3/envs/openmmlab-pose/lib/python3.8/site-packages (from requests->openmim) (3.4)\n",
      "Requirement already satisfied: certifi>=2017.4.17 in /home/cine/miniconda3/envs/openmmlab-pose/lib/python3.8/site-packages (from requests->openmim) (2023.5.7)\n",
      "Requirement already satisfied: pygments<3.0.0,>=2.13.0 in /home/cine/miniconda3/envs/openmmlab-pose/lib/python3.8/site-packages (from rich->openmim) (2.15.1)\n",
      "Requirement already satisfied: typing-extensions<5.0,>=4.0.0 in /home/cine/miniconda3/envs/openmmlab-pose/lib/python3.8/site-packages (from rich->openmim) (4.6.3)\n",
      "Collecting markdown-it-py<3.0.0,>=2.2.0\n",
      "  Downloading markdown_it_py-2.2.0-py3-none-any.whl (84 kB)\n",
      "\u001b[2K     \u001b[90m━━━━━━━━━━━━━━━━━━━━━━━━━━━━━━━━━━━━━━━━\u001b[0m \u001b[32m84.5/84.5 kB\u001b[0m \u001b[31m6.9 MB/s\u001b[0m eta \u001b[36m0:00:00\u001b[0m\n",
      "\u001b[?25hCollecting mdurl~=0.1\n",
      "  Using cached mdurl-0.1.2-py3-none-any.whl (10.0 kB)\n",
      "Requirement already satisfied: six>=1.5 in /home/cine/miniconda3/envs/openmmlab-pose/lib/python3.8/site-packages (from python-dateutil>=2.8.2->pandas->openmim) (1.16.0)\n",
      "Requirement already satisfied: importlib-metadata>=4.4 in /home/cine/miniconda3/envs/openmmlab-pose/lib/python3.8/site-packages (from markdown->model-index->openmim) (6.6.0)\n",
      "Requirement already satisfied: zipp>=0.5 in /home/cine/miniconda3/envs/openmmlab-pose/lib/python3.8/site-packages (from importlib-metadata>=4.4->markdown->model-index->openmim) (3.15.0)\n",
      "Installing collected packages: tzdata, tabulate, ordered-set, mdurl, colorama, Click, pandas, markdown-it-py, markdown, rich, model-index, openmim\n",
      "Successfully installed Click-8.1.3 colorama-0.4.6 markdown-3.4.3 markdown-it-py-2.2.0 mdurl-0.1.2 model-index-0.1.11 openmim-0.3.7 ordered-set-4.1.0 pandas-2.0.2 rich-13.4.1 tabulate-0.9.0 tzdata-2023.3\n",
      "Looking in links: https://download.openmmlab.com/mmcv/dist/cu113/torch1.10.0/index.html\n",
      "Collecting mmengine\n",
      "  Downloading mmengine-0.7.4-py3-none-any.whl (374 kB)\n",
      "\u001b[2K     \u001b[90m━━━━━━━━━━━━━━━━━━━━━━━━━━━━━━━━━━━━━━\u001b[0m \u001b[32m374.3/374.3 kB\u001b[0m \u001b[31m10.1 MB/s\u001b[0m eta \u001b[36m0:00:00\u001b[0m00:01\u001b[0m\n",
      "\u001b[?25hRequirement already satisfied: rich in /home/cine/miniconda3/envs/openmmlab-pose/lib/python3.8/site-packages (from mmengine) (13.4.1)\n",
      "Requirement already satisfied: pyyaml in /home/cine/miniconda3/envs/openmmlab-pose/lib/python3.8/site-packages (from mmengine) (6.0)\n",
      "Collecting termcolor\n",
      "  Using cached termcolor-2.3.0-py3-none-any.whl (6.9 kB)\n",
      "Collecting yapf\n",
      "  Downloading yapf-0.33.0-py2.py3-none-any.whl (200 kB)\n",
      "\u001b[2K     \u001b[90m━━━━━━━━━━━━━━━━━━━━━━━━━━━━━━━━━━━━━━━\u001b[0m \u001b[32m200.9/200.9 kB\u001b[0m \u001b[31m9.2 MB/s\u001b[0m eta \u001b[36m0:00:00\u001b[0m\n",
      "\u001b[?25hCollecting opencv-python>=3\n",
      "  Downloading opencv_python-4.7.0.72-cp37-abi3-manylinux_2_17_x86_64.manylinux2014_x86_64.whl (61.8 MB)\n",
      "\u001b[2K     \u001b[90m━━━━━━━━━━━━━━━━━━━━━━━━━━━━━━━━━━━━━━━━\u001b[0m \u001b[32m61.8/61.8 MB\u001b[0m \u001b[31m9.1 MB/s\u001b[0m eta \u001b[36m0:00:00\u001b[0m:00:01\u001b[0m00:01\u001b[0m\n",
      "\u001b[?25hCollecting addict\n",
      "  Using cached addict-2.4.0-py3-none-any.whl (3.8 kB)\n",
      "Requirement already satisfied: numpy in /home/cine/miniconda3/envs/openmmlab-pose/lib/python3.8/site-packages (from mmengine) (1.24.3)\n",
      "Collecting matplotlib\n",
      "  Downloading matplotlib-3.7.1-cp38-cp38-manylinux_2_12_x86_64.manylinux2010_x86_64.whl (9.2 MB)\n",
      "\u001b[2K     \u001b[90m━━━━━━━━━━━━━━━━━━━━━━━━━━━━━━━━━━━━━━━━\u001b[0m \u001b[32m9.2/9.2 MB\u001b[0m \u001b[31m11.0 MB/s\u001b[0m eta \u001b[36m0:00:00\u001b[0m00:01\u001b[0m00:01\u001b[0m\n",
      "\u001b[?25hCollecting kiwisolver>=1.0.1\n",
      "  Using cached kiwisolver-1.4.4-cp38-cp38-manylinux_2_5_x86_64.manylinux1_x86_64.whl (1.2 MB)\n",
      "Requirement already satisfied: importlib-resources>=3.2.0 in /home/cine/miniconda3/envs/openmmlab-pose/lib/python3.8/site-packages (from matplotlib->mmengine) (5.12.0)\n",
      "Collecting cycler>=0.10\n",
      "  Using cached cycler-0.11.0-py3-none-any.whl (6.4 kB)\n",
      "Collecting fonttools>=4.22.0\n",
      "  Using cached fonttools-4.39.4-py3-none-any.whl (1.0 MB)\n",
      "Requirement already satisfied: pillow>=6.2.0 in /home/cine/miniconda3/envs/openmmlab-pose/lib/python3.8/site-packages (from matplotlib->mmengine) (9.5.0)\n",
      "Collecting pyparsing>=2.3.1\n",
      "  Using cached pyparsing-3.0.9-py3-none-any.whl (98 kB)\n",
      "Requirement already satisfied: python-dateutil>=2.7 in /home/cine/miniconda3/envs/openmmlab-pose/lib/python3.8/site-packages (from matplotlib->mmengine) (2.8.2)\n",
      "Collecting contourpy>=1.0.1\n",
      "  Using cached contourpy-1.0.7-cp38-cp38-manylinux_2_17_x86_64.manylinux2014_x86_64.whl (300 kB)\n",
      "Requirement already satisfied: packaging>=20.0 in /home/cine/miniconda3/envs/openmmlab-pose/lib/python3.8/site-packages (from matplotlib->mmengine) (23.1)\n",
      "Requirement already satisfied: typing-extensions<5.0,>=4.0.0 in /home/cine/miniconda3/envs/openmmlab-pose/lib/python3.8/site-packages (from rich->mmengine) (4.6.3)\n",
      "Requirement already satisfied: markdown-it-py<3.0.0,>=2.2.0 in /home/cine/miniconda3/envs/openmmlab-pose/lib/python3.8/site-packages (from rich->mmengine) (2.2.0)\n",
      "Requirement already satisfied: pygments<3.0.0,>=2.13.0 in /home/cine/miniconda3/envs/openmmlab-pose/lib/python3.8/site-packages (from rich->mmengine) (2.15.1)\n",
      "Requirement already satisfied: tomli>=2.0.1 in /home/cine/miniconda3/envs/openmmlab-pose/lib/python3.8/site-packages (from yapf->mmengine) (2.0.1)\n",
      "Requirement already satisfied: zipp>=3.1.0 in /home/cine/miniconda3/envs/openmmlab-pose/lib/python3.8/site-packages (from importlib-resources>=3.2.0->matplotlib->mmengine) (3.15.0)\n",
      "Requirement already satisfied: mdurl~=0.1 in /home/cine/miniconda3/envs/openmmlab-pose/lib/python3.8/site-packages (from markdown-it-py<3.0.0,>=2.2.0->rich->mmengine) (0.1.2)\n",
      "Requirement already satisfied: six>=1.5 in /home/cine/miniconda3/envs/openmmlab-pose/lib/python3.8/site-packages (from python-dateutil>=2.7->matplotlib->mmengine) (1.16.0)\n",
      "Installing collected packages: addict, yapf, termcolor, pyparsing, opencv-python, kiwisolver, fonttools, cycler, contourpy, matplotlib, mmengine\n",
      "Successfully installed addict-2.4.0 contourpy-1.0.7 cycler-0.11.0 fonttools-4.39.4 kiwisolver-1.4.4 matplotlib-3.7.1 mmengine-0.7.4 opencv-python-4.7.0.72 pyparsing-3.0.9 termcolor-2.3.0 yapf-0.33.0\n",
      "Looking in links: https://download.openmmlab.com/mmcv/dist/cu113/torch1.10.0/index.html\n",
      "Collecting mmcv==2.0.0rc3\n",
      "  Using cached https://download.openmmlab.com/mmcv/dist/cu113/torch1.10.0/mmcv-2.0.0rc3-cp38-cp38-manylinux1_x86_64.whl (57.9 MB)\n",
      "Requirement already satisfied: numpy in /home/cine/miniconda3/envs/openmmlab-pose/lib/python3.8/site-packages (from mmcv==2.0.0rc3) (1.24.3)\n",
      "Requirement already satisfied: Pillow in /home/cine/miniconda3/envs/openmmlab-pose/lib/python3.8/site-packages (from mmcv==2.0.0rc3) (9.5.0)\n",
      "Requirement already satisfied: pyyaml in /home/cine/miniconda3/envs/openmmlab-pose/lib/python3.8/site-packages (from mmcv==2.0.0rc3) (6.0)\n",
      "Requirement already satisfied: packaging in /home/cine/miniconda3/envs/openmmlab-pose/lib/python3.8/site-packages (from mmcv==2.0.0rc3) (23.1)\n",
      "Requirement already satisfied: yapf in /home/cine/miniconda3/envs/openmmlab-pose/lib/python3.8/site-packages (from mmcv==2.0.0rc3) (0.33.0)\n",
      "Requirement already satisfied: mmengine in /home/cine/miniconda3/envs/openmmlab-pose/lib/python3.8/site-packages (from mmcv==2.0.0rc3) (0.7.4)\n",
      "Requirement already satisfied: addict in /home/cine/miniconda3/envs/openmmlab-pose/lib/python3.8/site-packages (from mmcv==2.0.0rc3) (2.4.0)\n",
      "Requirement already satisfied: opencv-python>=3 in /home/cine/miniconda3/envs/openmmlab-pose/lib/python3.8/site-packages (from mmcv==2.0.0rc3) (4.7.0.72)\n",
      "Requirement already satisfied: matplotlib in /home/cine/miniconda3/envs/openmmlab-pose/lib/python3.8/site-packages (from mmengine->mmcv==2.0.0rc3) (3.7.1)\n",
      "Requirement already satisfied: termcolor in /home/cine/miniconda3/envs/openmmlab-pose/lib/python3.8/site-packages (from mmengine->mmcv==2.0.0rc3) (2.3.0)\n",
      "Requirement already satisfied: rich in /home/cine/miniconda3/envs/openmmlab-pose/lib/python3.8/site-packages (from mmengine->mmcv==2.0.0rc3) (13.4.1)\n",
      "Requirement already satisfied: tomli>=2.0.1 in /home/cine/miniconda3/envs/openmmlab-pose/lib/python3.8/site-packages (from yapf->mmcv==2.0.0rc3) (2.0.1)\n",
      "Requirement already satisfied: cycler>=0.10 in /home/cine/miniconda3/envs/openmmlab-pose/lib/python3.8/site-packages (from matplotlib->mmengine->mmcv==2.0.0rc3) (0.11.0)\n",
      "Requirement already satisfied: pyparsing>=2.3.1 in /home/cine/miniconda3/envs/openmmlab-pose/lib/python3.8/site-packages (from matplotlib->mmengine->mmcv==2.0.0rc3) (3.0.9)\n",
      "Requirement already satisfied: fonttools>=4.22.0 in /home/cine/miniconda3/envs/openmmlab-pose/lib/python3.8/site-packages (from matplotlib->mmengine->mmcv==2.0.0rc3) (4.39.4)\n",
      "Requirement already satisfied: python-dateutil>=2.7 in /home/cine/miniconda3/envs/openmmlab-pose/lib/python3.8/site-packages (from matplotlib->mmengine->mmcv==2.0.0rc3) (2.8.2)\n",
      "Requirement already satisfied: contourpy>=1.0.1 in /home/cine/miniconda3/envs/openmmlab-pose/lib/python3.8/site-packages (from matplotlib->mmengine->mmcv==2.0.0rc3) (1.0.7)\n",
      "Requirement already satisfied: importlib-resources>=3.2.0 in /home/cine/miniconda3/envs/openmmlab-pose/lib/python3.8/site-packages (from matplotlib->mmengine->mmcv==2.0.0rc3) (5.12.0)\n",
      "Requirement already satisfied: kiwisolver>=1.0.1 in /home/cine/miniconda3/envs/openmmlab-pose/lib/python3.8/site-packages (from matplotlib->mmengine->mmcv==2.0.0rc3) (1.4.4)\n",
      "Requirement already satisfied: typing-extensions<5.0,>=4.0.0 in /home/cine/miniconda3/envs/openmmlab-pose/lib/python3.8/site-packages (from rich->mmengine->mmcv==2.0.0rc3) (4.6.3)\n",
      "Requirement already satisfied: pygments<3.0.0,>=2.13.0 in /home/cine/miniconda3/envs/openmmlab-pose/lib/python3.8/site-packages (from rich->mmengine->mmcv==2.0.0rc3) (2.15.1)\n",
      "Requirement already satisfied: markdown-it-py<3.0.0,>=2.2.0 in /home/cine/miniconda3/envs/openmmlab-pose/lib/python3.8/site-packages (from rich->mmengine->mmcv==2.0.0rc3) (2.2.0)\n",
      "Requirement already satisfied: zipp>=3.1.0 in /home/cine/miniconda3/envs/openmmlab-pose/lib/python3.8/site-packages (from importlib-resources>=3.2.0->matplotlib->mmengine->mmcv==2.0.0rc3) (3.15.0)\n",
      "Requirement already satisfied: mdurl~=0.1 in /home/cine/miniconda3/envs/openmmlab-pose/lib/python3.8/site-packages (from markdown-it-py<3.0.0,>=2.2.0->rich->mmengine->mmcv==2.0.0rc3) (0.1.2)\n",
      "Requirement already satisfied: six>=1.5 in /home/cine/miniconda3/envs/openmmlab-pose/lib/python3.8/site-packages (from python-dateutil>=2.7->matplotlib->mmengine->mmcv==2.0.0rc3) (1.16.0)\n",
      "Installing collected packages: mmcv\n",
      "Successfully installed mmcv-2.0.0rc3\n",
      "Looking in links: https://download.openmmlab.com/mmcv/dist/cu113/torch1.10.0/index.html\n",
      "Collecting mmdet>=3.0.0rc6\n",
      "  Downloading mmdet-3.0.0-py3-none-any.whl (1.7 MB)\n",
      "\u001b[2K     \u001b[90m━━━━━━━━━━━━━━━━━━━━━━━━━━━━━━━━━━━━━━━━\u001b[0m \u001b[32m1.7/1.7 MB\u001b[0m \u001b[31m10.7 MB/s\u001b[0m eta \u001b[36m0:00:00\u001b[0ma \u001b[36m0:00:01\u001b[0m\n",
      "\u001b[?25hRequirement already satisfied: numpy in /home/cine/miniconda3/envs/openmmlab-pose/lib/python3.8/site-packages (from mmdet>=3.0.0rc6) (1.24.3)\n",
      "Collecting terminaltables\n",
      "  Using cached terminaltables-3.1.10-py2.py3-none-any.whl (15 kB)\n",
      "Collecting pycocotools\n",
      "  Using cached pycocotools-2.0.6.tar.gz (24 kB)\n",
      "  Installing build dependencies ... \u001b[?25ldone\n",
      "\u001b[?25h  Getting requirements to build wheel ... \u001b[?25ldone\n",
      "\u001b[?25h  Preparing metadata (pyproject.toml) ... \u001b[?25ldone\n",
      "\u001b[?25hCollecting shapely\n",
      "  Downloading shapely-2.0.1-cp38-cp38-manylinux_2_17_x86_64.manylinux2014_x86_64.whl (2.3 MB)\n",
      "\u001b[2K     \u001b[90m━━━━━━━━━━━━━━━━━━━━━━━━━━━━━━━━━━━━━━━━\u001b[0m \u001b[32m2.3/2.3 MB\u001b[0m \u001b[31m10.9 MB/s\u001b[0m eta \u001b[36m0:00:00\u001b[0m00:01\u001b[0m00:01\u001b[0m\n",
      "\u001b[?25hRequirement already satisfied: six in /home/cine/miniconda3/envs/openmmlab-pose/lib/python3.8/site-packages (from mmdet>=3.0.0rc6) (1.16.0)\n",
      "Collecting scipy\n",
      "  Downloading scipy-1.10.1-cp38-cp38-manylinux_2_17_x86_64.manylinux2014_x86_64.whl (34.5 MB)\n",
      "\u001b[2K     \u001b[90m━━━━━━━━━━━━━━━━━━━━━━━━━━━━━━━━━━━━━━━━\u001b[0m \u001b[32m34.5/34.5 MB\u001b[0m \u001b[31m10.1 MB/s\u001b[0m eta \u001b[36m0:00:00\u001b[0m00:01\u001b[0m00:01\u001b[0m\n",
      "\u001b[?25hRequirement already satisfied: matplotlib in /home/cine/miniconda3/envs/openmmlab-pose/lib/python3.8/site-packages (from mmdet>=3.0.0rc6) (3.7.1)\n",
      "Collecting mmcv<2.1.0,>=2.0.0rc4\n",
      "  Downloading https://download.openmmlab.com/mmcv/dist/cu113/torch1.10.0/mmcv-2.0.0-cp38-cp38-manylinux1_x86_64.whl (86.2 MB)\n",
      "\u001b[2K     \u001b[90m━━━━━━━━━━━━━━━━━━━━━━━━━━━━━━━━━━━━━━━━\u001b[0m \u001b[32m86.2/86.2 MB\u001b[0m \u001b[31m8.6 MB/s\u001b[0m eta \u001b[36m0:00:00\u001b[0m:00:01\u001b[0m00:01\u001b[0m\n",
      "\u001b[?25hRequirement already satisfied: mmengine<1.0.0,>=0.7.1 in /home/cine/miniconda3/envs/openmmlab-pose/lib/python3.8/site-packages (from mmdet>=3.0.0rc6) (0.7.4)\n",
      "Requirement already satisfied: yapf in /home/cine/miniconda3/envs/openmmlab-pose/lib/python3.8/site-packages (from mmcv<2.1.0,>=2.0.0rc4->mmdet>=3.0.0rc6) (0.33.0)\n",
      "Requirement already satisfied: opencv-python>=3 in /home/cine/miniconda3/envs/openmmlab-pose/lib/python3.8/site-packages (from mmcv<2.1.0,>=2.0.0rc4->mmdet>=3.0.0rc6) (4.7.0.72)\n",
      "Requirement already satisfied: packaging in /home/cine/miniconda3/envs/openmmlab-pose/lib/python3.8/site-packages (from mmcv<2.1.0,>=2.0.0rc4->mmdet>=3.0.0rc6) (23.1)\n",
      "Requirement already satisfied: pyyaml in /home/cine/miniconda3/envs/openmmlab-pose/lib/python3.8/site-packages (from mmcv<2.1.0,>=2.0.0rc4->mmdet>=3.0.0rc6) (6.0)\n",
      "Requirement already satisfied: addict in /home/cine/miniconda3/envs/openmmlab-pose/lib/python3.8/site-packages (from mmcv<2.1.0,>=2.0.0rc4->mmdet>=3.0.0rc6) (2.4.0)\n",
      "Requirement already satisfied: Pillow in /home/cine/miniconda3/envs/openmmlab-pose/lib/python3.8/site-packages (from mmcv<2.1.0,>=2.0.0rc4->mmdet>=3.0.0rc6) (9.5.0)\n",
      "Requirement already satisfied: termcolor in /home/cine/miniconda3/envs/openmmlab-pose/lib/python3.8/site-packages (from mmengine<1.0.0,>=0.7.1->mmdet>=3.0.0rc6) (2.3.0)\n",
      "Requirement already satisfied: rich in /home/cine/miniconda3/envs/openmmlab-pose/lib/python3.8/site-packages (from mmengine<1.0.0,>=0.7.1->mmdet>=3.0.0rc6) (13.4.1)\n",
      "Requirement already satisfied: pyparsing>=2.3.1 in /home/cine/miniconda3/envs/openmmlab-pose/lib/python3.8/site-packages (from matplotlib->mmdet>=3.0.0rc6) (3.0.9)\n",
      "Requirement already satisfied: contourpy>=1.0.1 in /home/cine/miniconda3/envs/openmmlab-pose/lib/python3.8/site-packages (from matplotlib->mmdet>=3.0.0rc6) (1.0.7)\n",
      "Requirement already satisfied: fonttools>=4.22.0 in /home/cine/miniconda3/envs/openmmlab-pose/lib/python3.8/site-packages (from matplotlib->mmdet>=3.0.0rc6) (4.39.4)\n",
      "Requirement already satisfied: cycler>=0.10 in /home/cine/miniconda3/envs/openmmlab-pose/lib/python3.8/site-packages (from matplotlib->mmdet>=3.0.0rc6) (0.11.0)\n",
      "Requirement already satisfied: python-dateutil>=2.7 in /home/cine/miniconda3/envs/openmmlab-pose/lib/python3.8/site-packages (from matplotlib->mmdet>=3.0.0rc6) (2.8.2)\n",
      "Requirement already satisfied: kiwisolver>=1.0.1 in /home/cine/miniconda3/envs/openmmlab-pose/lib/python3.8/site-packages (from matplotlib->mmdet>=3.0.0rc6) (1.4.4)\n",
      "Requirement already satisfied: importlib-resources>=3.2.0 in /home/cine/miniconda3/envs/openmmlab-pose/lib/python3.8/site-packages (from matplotlib->mmdet>=3.0.0rc6) (5.12.0)\n",
      "Requirement already satisfied: zipp>=3.1.0 in /home/cine/miniconda3/envs/openmmlab-pose/lib/python3.8/site-packages (from importlib-resources>=3.2.0->matplotlib->mmdet>=3.0.0rc6) (3.15.0)\n",
      "Requirement already satisfied: markdown-it-py<3.0.0,>=2.2.0 in /home/cine/miniconda3/envs/openmmlab-pose/lib/python3.8/site-packages (from rich->mmengine<1.0.0,>=0.7.1->mmdet>=3.0.0rc6) (2.2.0)\n",
      "Requirement already satisfied: pygments<3.0.0,>=2.13.0 in /home/cine/miniconda3/envs/openmmlab-pose/lib/python3.8/site-packages (from rich->mmengine<1.0.0,>=0.7.1->mmdet>=3.0.0rc6) (2.15.1)\n",
      "Requirement already satisfied: typing-extensions<5.0,>=4.0.0 in /home/cine/miniconda3/envs/openmmlab-pose/lib/python3.8/site-packages (from rich->mmengine<1.0.0,>=0.7.1->mmdet>=3.0.0rc6) (4.6.3)\n",
      "Requirement already satisfied: tomli>=2.0.1 in /home/cine/miniconda3/envs/openmmlab-pose/lib/python3.8/site-packages (from yapf->mmcv<2.1.0,>=2.0.0rc4->mmdet>=3.0.0rc6) (2.0.1)\n",
      "Requirement already satisfied: mdurl~=0.1 in /home/cine/miniconda3/envs/openmmlab-pose/lib/python3.8/site-packages (from markdown-it-py<3.0.0,>=2.2.0->rich->mmengine<1.0.0,>=0.7.1->mmdet>=3.0.0rc6) (0.1.2)\n",
      "Building wheels for collected packages: pycocotools\n",
      "  Building wheel for pycocotools (pyproject.toml) ... \u001b[?25ldone\n",
      "\u001b[?25h  Created wheel for pycocotools: filename=pycocotools-2.0.6-cp38-cp38-linux_x86_64.whl size=406111 sha256=d920c5945245d2c356c93de7e3e0904e66aa27b3a09dc6c952899f4a17444089\n",
      "  Stored in directory: /home/cine/.cache/pip/wheels/3e/08/ac/58126fe59992032701437336493f6132e1b72381a62d00b595\n",
      "Successfully built pycocotools\n",
      "Installing collected packages: terminaltables, shapely, scipy, pycocotools, mmcv, mmdet\n",
      "  Attempting uninstall: mmcv\n",
      "    Found existing installation: mmcv 2.0.0rc3\n",
      "    Uninstalling mmcv-2.0.0rc3:\n",
      "      Successfully uninstalled mmcv-2.0.0rc3\n",
      "Successfully installed mmcv-2.0.0 mmdet-3.0.0 pycocotools-2.0.6 scipy-1.10.1 shapely-2.0.1 terminaltables-3.1.10\n"
     ]
    }
   ],
   "source": [
    "!pip install -U openmim\n",
    "!mim install mmengine\n",
    "!mim install 'mmcv==2.0.0rc3'\n",
    "!mim install \"mmdet>=3.0.0rc6\""
   ]
  },
  {
   "cell_type": "markdown",
   "id": "38c55520-071b-41de-91f4-3ec78e16bf27",
   "metadata": {},
   "source": [
    "## 安装其它工具包"
   ]
  },
  {
   "cell_type": "code",
   "execution_count": 3,
   "id": "eb4b3373-f117-46a9-ab43-e67753eb7c61",
   "metadata": {},
   "outputs": [
    {
     "name": "stdout",
     "output_type": "stream",
     "text": [
      "Requirement already satisfied: opencv-python in /home/cine/miniconda3/envs/openmmlab-pose/lib/python3.8/site-packages (4.7.0.72)\n",
      "Requirement already satisfied: pillow in /home/cine/miniconda3/envs/openmmlab-pose/lib/python3.8/site-packages (9.5.0)\n",
      "Requirement already satisfied: matplotlib in /home/cine/miniconda3/envs/openmmlab-pose/lib/python3.8/site-packages (3.7.1)\n",
      "Collecting seaborn\n",
      "  Using cached seaborn-0.12.2-py3-none-any.whl (293 kB)\n",
      "Collecting tqdm\n",
      "  Downloading tqdm-4.65.0-py3-none-any.whl (77 kB)\n",
      "\u001b[2K     \u001b[90m━━━━━━━━━━━━━━━━━━━━━━━━━━━━━━━━━━━━━━━━\u001b[0m \u001b[32m77.1/77.1 kB\u001b[0m \u001b[31m6.3 MB/s\u001b[0m eta \u001b[36m0:00:00\u001b[0m\n",
      "\u001b[?25hRequirement already satisfied: pycocotools in /home/cine/miniconda3/envs/openmmlab-pose/lib/python3.8/site-packages (2.0.6)\n",
      "Requirement already satisfied: numpy>=1.17.3 in /home/cine/miniconda3/envs/openmmlab-pose/lib/python3.8/site-packages (from opencv-python) (1.24.3)\n",
      "Requirement already satisfied: python-dateutil>=2.7 in /home/cine/miniconda3/envs/openmmlab-pose/lib/python3.8/site-packages (from matplotlib) (2.8.2)\n",
      "Requirement already satisfied: contourpy>=1.0.1 in /home/cine/miniconda3/envs/openmmlab-pose/lib/python3.8/site-packages (from matplotlib) (1.0.7)\n",
      "Requirement already satisfied: importlib-resources>=3.2.0 in /home/cine/miniconda3/envs/openmmlab-pose/lib/python3.8/site-packages (from matplotlib) (5.12.0)\n",
      "Requirement already satisfied: packaging>=20.0 in /home/cine/miniconda3/envs/openmmlab-pose/lib/python3.8/site-packages (from matplotlib) (23.1)\n",
      "Requirement already satisfied: cycler>=0.10 in /home/cine/miniconda3/envs/openmmlab-pose/lib/python3.8/site-packages (from matplotlib) (0.11.0)\n",
      "Requirement already satisfied: kiwisolver>=1.0.1 in /home/cine/miniconda3/envs/openmmlab-pose/lib/python3.8/site-packages (from matplotlib) (1.4.4)\n",
      "Requirement already satisfied: fonttools>=4.22.0 in /home/cine/miniconda3/envs/openmmlab-pose/lib/python3.8/site-packages (from matplotlib) (4.39.4)\n",
      "Requirement already satisfied: pyparsing>=2.3.1 in /home/cine/miniconda3/envs/openmmlab-pose/lib/python3.8/site-packages (from matplotlib) (3.0.9)\n",
      "Requirement already satisfied: pandas>=0.25 in /home/cine/miniconda3/envs/openmmlab-pose/lib/python3.8/site-packages (from seaborn) (2.0.2)\n",
      "Requirement already satisfied: zipp>=3.1.0 in /home/cine/miniconda3/envs/openmmlab-pose/lib/python3.8/site-packages (from importlib-resources>=3.2.0->matplotlib) (3.15.0)\n",
      "Requirement already satisfied: pytz>=2020.1 in /home/cine/miniconda3/envs/openmmlab-pose/lib/python3.8/site-packages (from pandas>=0.25->seaborn) (2023.3)\n",
      "Requirement already satisfied: tzdata>=2022.1 in /home/cine/miniconda3/envs/openmmlab-pose/lib/python3.8/site-packages (from pandas>=0.25->seaborn) (2023.3)\n",
      "Requirement already satisfied: six>=1.5 in /home/cine/miniconda3/envs/openmmlab-pose/lib/python3.8/site-packages (from python-dateutil>=2.7->matplotlib) (1.16.0)\n",
      "Installing collected packages: tqdm, seaborn\n",
      "Successfully installed seaborn-0.12.2 tqdm-4.65.0\n"
     ]
    }
   ],
   "source": [
    "# !pip install opencv-python pillow matplotlib seaborn tqdm pycocotools -i https://pypi.tuna.tsinghua.edu.cn/simple\n",
    "!pip install opencv-python pillow matplotlib seaborn tqdm pycocotools \n"
   ]
  },
  {
   "cell_type": "markdown",
   "id": "0defb2f8-d5ab-4ee4-a66f-85cc17c221de",
   "metadata": {
    "tags": []
   },
   "source": [
    "## 下载 MMPose"
   ]
  },
  {
   "cell_type": "code",
   "execution_count": 4,
   "id": "89026868-58b1-4755-aca3-ded98451e906",
   "metadata": {},
   "outputs": [],
   "source": [
    "# 删掉原有的 mmpose 文件夹（如有）\n",
    "!rm -rf mmpose"
   ]
  },
  {
   "cell_type": "code",
   "execution_count": 5,
   "id": "09c51fee-d040-46cf-8d86-c0248ab7fe84",
   "metadata": {},
   "outputs": [
    {
     "name": "stdout",
     "output_type": "stream",
     "text": [
      "正克隆到 'mmpose'...\n",
      "remote: Enumerating objects: 27394, done.\u001b[K\n",
      "remote: Counting objects: 100% (1228/1228), done.\u001b[K\n",
      "remote: Compressing objects: 100% (643/643), done.\u001b[K\n",
      "remote: Total 27394 (delta 660), reused 998 (delta 566), pack-reused 26166\u001b[K\n",
      "接收对象中: 100% (27394/27394), 30.08 MiB | 9.36 MiB/s, 完成.\n",
      "处理 delta 中: 100% (19334/19334), 完成.\n"
     ]
    }
   ],
   "source": [
    "# 从 github 上下载最新的 mmpose 源代码\n",
    "!git clone https://github.com/open-mmlab/mmpose.git -b tutorial2023"
   ]
  },
  {
   "cell_type": "code",
   "execution_count": 6,
   "id": "b6a71270-f87b-4cf3-87f0-771f45f38c28",
   "metadata": {},
   "outputs": [],
   "source": [
    "# 进入主目录\n",
    "import os\n",
    "os.chdir('mmpose')"
   ]
  },
  {
   "cell_type": "markdown",
   "id": "f1cd1922-e20a-459a-bf45-e826d8245d88",
   "metadata": {},
   "source": [
    "## 安装 MMPose"
   ]
  },
  {
   "cell_type": "code",
   "execution_count": 7,
   "id": "21e78bae-1d33-478d-8b72-5e8584f6cadf",
   "metadata": {
    "scrolled": true
   },
   "outputs": [
    {
     "name": "stdout",
     "output_type": "stream",
     "text": [
      "Looking in links: https://download.openmmlab.com/mmcv/dist/cu113/torch1.10.0/index.html\n",
      "Obtaining file:///home/cine/Documents/MMPose/mmpose\n",
      "  Preparing metadata (setup.py) ... \u001b[?25ldone\n",
      "\u001b[?25hCollecting chumpy\n",
      "  Using cached chumpy-0.70-py3-none-any.whl\n",
      "Collecting json_tricks\n",
      "  Downloading json_tricks-3.17.0-py2.py3-none-any.whl (27 kB)\n",
      "Requirement already satisfied: matplotlib in /home/cine/miniconda3/envs/openmmlab-pose/lib/python3.8/site-packages (from mmpose==1.0.0) (3.7.1)\n",
      "Collecting munkres\n",
      "  Using cached munkres-1.1.4-py2.py3-none-any.whl (7.0 kB)\n",
      "Requirement already satisfied: numpy in /home/cine/miniconda3/envs/openmmlab-pose/lib/python3.8/site-packages (from mmpose==1.0.0) (1.24.3)\n",
      "Requirement already satisfied: opencv-python in /home/cine/miniconda3/envs/openmmlab-pose/lib/python3.8/site-packages (from mmpose==1.0.0) (4.7.0.72)\n",
      "Requirement already satisfied: pillow in /home/cine/miniconda3/envs/openmmlab-pose/lib/python3.8/site-packages (from mmpose==1.0.0) (9.5.0)\n",
      "Requirement already satisfied: scipy in /home/cine/miniconda3/envs/openmmlab-pose/lib/python3.8/site-packages (from mmpose==1.0.0) (1.10.1)\n",
      "Requirement already satisfied: torchvision in /home/cine/miniconda3/envs/openmmlab-pose/lib/python3.8/site-packages (from mmpose==1.0.0) (0.11.2+cu113)\n",
      "Collecting xtcocotools>=1.12\n",
      "  Downloading xtcocotools-1.13-cp38-cp38-manylinux1_x86_64.whl (316 kB)\n",
      "\u001b[2K     \u001b[90m━━━━━━━━━━━━━━━━━━━━━━━━━━━━━━━━━━━━━━\u001b[0m \u001b[32m316.5/316.5 kB\u001b[0m \u001b[31m10.0 MB/s\u001b[0m eta \u001b[36m0:00:00\u001b[0m\n",
      "\u001b[?25hRequirement already satisfied: mmcv<2.1.0,>=2.0.0 in /home/cine/miniconda3/envs/openmmlab-pose/lib/python3.8/site-packages (from mmpose==1.0.0) (2.0.0)\n",
      "Requirement already satisfied: mmdet<3.1.0,>=3.0.0 in /home/cine/miniconda3/envs/openmmlab-pose/lib/python3.8/site-packages (from mmpose==1.0.0) (3.0.0)\n",
      "Requirement already satisfied: mmengine<1.0.0,>=0.4.0 in /home/cine/miniconda3/envs/openmmlab-pose/lib/python3.8/site-packages (from mmpose==1.0.0) (0.7.4)\n",
      "Requirement already satisfied: pyyaml in /home/cine/miniconda3/envs/openmmlab-pose/lib/python3.8/site-packages (from mmcv<2.1.0,>=2.0.0->mmpose==1.0.0) (6.0)\n",
      "Requirement already satisfied: packaging in /home/cine/miniconda3/envs/openmmlab-pose/lib/python3.8/site-packages (from mmcv<2.1.0,>=2.0.0->mmpose==1.0.0) (23.1)\n",
      "Requirement already satisfied: yapf in /home/cine/miniconda3/envs/openmmlab-pose/lib/python3.8/site-packages (from mmcv<2.1.0,>=2.0.0->mmpose==1.0.0) (0.33.0)\n",
      "Requirement already satisfied: addict in /home/cine/miniconda3/envs/openmmlab-pose/lib/python3.8/site-packages (from mmcv<2.1.0,>=2.0.0->mmpose==1.0.0) (2.4.0)\n",
      "Requirement already satisfied: shapely in /home/cine/miniconda3/envs/openmmlab-pose/lib/python3.8/site-packages (from mmdet<3.1.0,>=3.0.0->mmpose==1.0.0) (2.0.1)\n",
      "Requirement already satisfied: terminaltables in /home/cine/miniconda3/envs/openmmlab-pose/lib/python3.8/site-packages (from mmdet<3.1.0,>=3.0.0->mmpose==1.0.0) (3.1.10)\n",
      "Requirement already satisfied: pycocotools in /home/cine/miniconda3/envs/openmmlab-pose/lib/python3.8/site-packages (from mmdet<3.1.0,>=3.0.0->mmpose==1.0.0) (2.0.6)\n",
      "Requirement already satisfied: six in /home/cine/miniconda3/envs/openmmlab-pose/lib/python3.8/site-packages (from mmdet<3.1.0,>=3.0.0->mmpose==1.0.0) (1.16.0)\n",
      "Requirement already satisfied: termcolor in /home/cine/miniconda3/envs/openmmlab-pose/lib/python3.8/site-packages (from mmengine<1.0.0,>=0.4.0->mmpose==1.0.0) (2.3.0)\n",
      "Requirement already satisfied: rich in /home/cine/miniconda3/envs/openmmlab-pose/lib/python3.8/site-packages (from mmengine<1.0.0,>=0.4.0->mmpose==1.0.0) (13.4.1)\n",
      "Requirement already satisfied: setuptools>=18.0 in /home/cine/miniconda3/envs/openmmlab-pose/lib/python3.8/site-packages (from xtcocotools>=1.12->mmpose==1.0.0) (67.8.0)\n",
      "Collecting cython>=0.27.3\n",
      "  Using cached Cython-0.29.35-cp38-cp38-manylinux_2_17_x86_64.manylinux2014_x86_64.manylinux_2_24_x86_64.whl (2.0 MB)\n",
      "Requirement already satisfied: contourpy>=1.0.1 in /home/cine/miniconda3/envs/openmmlab-pose/lib/python3.8/site-packages (from matplotlib->mmpose==1.0.0) (1.0.7)\n",
      "Requirement already satisfied: cycler>=0.10 in /home/cine/miniconda3/envs/openmmlab-pose/lib/python3.8/site-packages (from matplotlib->mmpose==1.0.0) (0.11.0)\n",
      "Requirement already satisfied: importlib-resources>=3.2.0 in /home/cine/miniconda3/envs/openmmlab-pose/lib/python3.8/site-packages (from matplotlib->mmpose==1.0.0) (5.12.0)\n",
      "Requirement already satisfied: fonttools>=4.22.0 in /home/cine/miniconda3/envs/openmmlab-pose/lib/python3.8/site-packages (from matplotlib->mmpose==1.0.0) (4.39.4)\n",
      "Requirement already satisfied: kiwisolver>=1.0.1 in /home/cine/miniconda3/envs/openmmlab-pose/lib/python3.8/site-packages (from matplotlib->mmpose==1.0.0) (1.4.4)\n",
      "Requirement already satisfied: pyparsing>=2.3.1 in /home/cine/miniconda3/envs/openmmlab-pose/lib/python3.8/site-packages (from matplotlib->mmpose==1.0.0) (3.0.9)\n",
      "Requirement already satisfied: python-dateutil>=2.7 in /home/cine/miniconda3/envs/openmmlab-pose/lib/python3.8/site-packages (from matplotlib->mmpose==1.0.0) (2.8.2)\n",
      "Requirement already satisfied: torch==1.10.1 in /home/cine/miniconda3/envs/openmmlab-pose/lib/python3.8/site-packages (from torchvision->mmpose==1.0.0) (1.10.1+cu113)\n",
      "Requirement already satisfied: typing-extensions in /home/cine/miniconda3/envs/openmmlab-pose/lib/python3.8/site-packages (from torch==1.10.1->torchvision->mmpose==1.0.0) (4.6.3)\n",
      "Requirement already satisfied: zipp>=3.1.0 in /home/cine/miniconda3/envs/openmmlab-pose/lib/python3.8/site-packages (from importlib-resources>=3.2.0->matplotlib->mmpose==1.0.0) (3.15.0)\n",
      "Requirement already satisfied: pygments<3.0.0,>=2.13.0 in /home/cine/miniconda3/envs/openmmlab-pose/lib/python3.8/site-packages (from rich->mmengine<1.0.0,>=0.4.0->mmpose==1.0.0) (2.15.1)\n",
      "Requirement already satisfied: markdown-it-py<3.0.0,>=2.2.0 in /home/cine/miniconda3/envs/openmmlab-pose/lib/python3.8/site-packages (from rich->mmengine<1.0.0,>=0.4.0->mmpose==1.0.0) (2.2.0)\n",
      "Requirement already satisfied: tomli>=2.0.1 in /home/cine/miniconda3/envs/openmmlab-pose/lib/python3.8/site-packages (from yapf->mmcv<2.1.0,>=2.0.0->mmpose==1.0.0) (2.0.1)\n",
      "Requirement already satisfied: mdurl~=0.1 in /home/cine/miniconda3/envs/openmmlab-pose/lib/python3.8/site-packages (from markdown-it-py<3.0.0,>=2.2.0->rich->mmengine<1.0.0,>=0.4.0->mmpose==1.0.0) (0.1.2)\n",
      "Installing collected packages: munkres, json_tricks, cython, chumpy, xtcocotools, mmpose\n",
      "  Running setup.py develop for mmpose\n",
      "Successfully installed chumpy-0.70 cython-0.29.35 json_tricks-3.17.0 mmpose-1.0.0 munkres-1.1.4 xtcocotools-1.13\n"
     ]
    }
   ],
   "source": [
    "!mim install -e ."
   ]
  },
  {
   "cell_type": "markdown",
   "id": "a828bfe4-82e5-497a-9bda-cb9837df2cb3",
   "metadata": {},
   "source": [
    "## 下载预训练模型权重文件和视频素材"
   ]
  },
  {
   "cell_type": "code",
   "execution_count": 8,
   "id": "5aac1d0c-dbf5-478c-ab80-7e2aa0ab0f01",
   "metadata": {},
   "outputs": [],
   "source": [
    "import os\n",
    "\n",
    "# 创建 checkpoint 文件夹，用于存放预训练模型权重文件\n",
    "os.mkdir('checkpoint')\n",
    "\n",
    "# 创建 outputs 文件夹，用于存放预测结果\n",
    "os.mkdir('outputs')\n",
    "\n",
    "# 创建 data 文件夹，用于存放图片和视频素材\n",
    "os.mkdir('data')\n",
    "\n",
    "os.mkdir('data/test')"
   ]
  },
  {
   "cell_type": "code",
   "execution_count": 9,
   "id": "bae3b8b0-07a2-4a79-83cf-42276ea1c9ef",
   "metadata": {},
   "outputs": [
    {
     "name": "stdout",
     "output_type": "stream",
     "text": [
      "--2023-06-04 11:35:16--  https://zihao-openmmlab.obs.cn-east-3.myhuaweicloud.com/20220610-mmpose/images/multi-person.jpeg\n",
      "正在解析主机 zihao-openmmlab.obs.cn-east-3.myhuaweicloud.com (zihao-openmmlab.obs.cn-east-3.myhuaweicloud.com)... 121.36.235.132\n",
      "正在连接 zihao-openmmlab.obs.cn-east-3.myhuaweicloud.com (zihao-openmmlab.obs.cn-east-3.myhuaweicloud.com)|121.36.235.132|:443... 已连接。\n",
      "已发出 HTTP 请求，正在等待回应... 200 OK\n",
      "长度： 604280 (590K) [image/jpeg]\n",
      "正在保存至: ‘data/test/multi-person.jpeg’\n",
      "\n",
      "data/test/multi-per 100%[===================>] 590.12K  2.04MB/s    用时 0.3s    \n",
      "\n",
      "2023-06-04 11:35:17 (2.04 MB/s) - 已保存 ‘data/test/multi-person.jpeg’ [604280/604280])\n",
      "\n",
      "--2023-06-04 11:35:18--  https://zihao-openmmlab.obs.myhuaweicloud.com/20220610-mmpose/videos/cxk.mp4\n",
      "正在解析主机 zihao-openmmlab.obs.myhuaweicloud.com (zihao-openmmlab.obs.myhuaweicloud.com)... 121.36.235.132\n",
      "正在连接 zihao-openmmlab.obs.myhuaweicloud.com (zihao-openmmlab.obs.myhuaweicloud.com)|121.36.235.132|:443... 已连接。\n",
      "已发出 HTTP 请求，正在等待回应... 200 OK\n",
      "长度： 5535528 (5.3M) [video/mp4]\n",
      "正在保存至: ‘data/test/cxk.mp4’\n",
      "\n",
      "cxk.mp4             100%[===================>]   5.28M  7.07MB/s    用时 0.7s    \n",
      "\n",
      "2023-06-04 11:35:19 (7.07 MB/s) - 已保存 ‘data/test/cxk.mp4’ [5535528/5535528])\n",
      "\n",
      "--2023-06-04 11:35:20--  https://zihao-openmmlab.obs.myhuaweicloud.com/20220610-mmpose/videos/mother_wx.mp4\n",
      "正在解析主机 zihao-openmmlab.obs.myhuaweicloud.com (zihao-openmmlab.obs.myhuaweicloud.com)... 121.36.235.132\n",
      "正在连接 zihao-openmmlab.obs.myhuaweicloud.com (zihao-openmmlab.obs.myhuaweicloud.com)|121.36.235.132|:443... 已连接。\n",
      "已发出 HTTP 请求，正在等待回应... 200 OK\n",
      "长度： 402665 (393K) [video/mp4]\n",
      "正在保存至: ‘data/test/mother_wx.mp4’\n",
      "\n",
      "mother_wx.mp4       100%[===================>] 393.23K  1.33MB/s    用时 0.3s    \n",
      "\n",
      "2023-06-04 11:35:21 (1.33 MB/s) - 已保存 ‘data/test/mother_wx.mp4’ [402665/402665])\n",
      "\n",
      "--2023-06-04 11:35:21--  https://zihao-openmmlab.obs.cn-east-3.myhuaweicloud.com/20220610-mmpose/videos/two-girls.mp4\n",
      "正在解析主机 zihao-openmmlab.obs.cn-east-3.myhuaweicloud.com (zihao-openmmlab.obs.cn-east-3.myhuaweicloud.com)... 121.36.235.132\n",
      "正在连接 zihao-openmmlab.obs.cn-east-3.myhuaweicloud.com (zihao-openmmlab.obs.cn-east-3.myhuaweicloud.com)|121.36.235.132|:443... 已连接。\n",
      "已发出 HTTP 请求，正在等待回应... 200 OK\n",
      "长度： 44217475 (42M) [video/mp4]\n",
      "正在保存至: ‘data/test/two-girls.mp4’\n",
      "\n",
      "data/test/two-girls 100%[===================>]  42.17M  10.9MB/s    用时 4.3s    \n",
      "\n",
      "2023-06-04 11:35:26 (9.71 MB/s) - 已保存 ‘data/test/two-girls.mp4’ [44217475/44217475])\n",
      "\n"
     ]
    }
   ],
   "source": [
    "# 多人图片，来源：https://www.pexels.com/zh-cn/photo/2168292/\n",
    "!wget https://zihao-openmmlab.obs.cn-east-3.myhuaweicloud.com/20220610-mmpose/images/multi-person.jpeg -O data/test/multi-person.jpeg\n",
    "\n",
    "# 单人视频-唱跳篮球 \n",
    "!wget https://zihao-openmmlab.obs.myhuaweicloud.com/20220610-mmpose/videos/cxk.mp4 -P data/test\n",
    "\n",
    "# 妈妈和女儿跳舞，经微信压缩\n",
    "!wget https://zihao-openmmlab.obs.myhuaweicloud.com/20220610-mmpose/videos/mother_wx.mp4 -P data/test\n",
    "\n",
    "# 两个女生跳舞视频，来源：https://mixkit.co/free-stock-video/two-girls-having-fun-in-a-retro-restaurant-42298/\n",
    "!wget https://zihao-openmmlab.obs.cn-east-3.myhuaweicloud.com/20220610-mmpose/videos/two-girls.mp4 -O data/test/two-girls.mp4"
   ]
  },
  {
   "cell_type": "markdown",
   "id": "fa97e1da-f245-4d32-892d-dec07a6b2c16",
   "metadata": {},
   "source": [
    "## 检查安装成功"
   ]
  },
  {
   "cell_type": "code",
   "execution_count": 10,
   "id": "424fca02-13cc-493f-8833-ec63900f02d3",
   "metadata": {},
   "outputs": [
    {
     "name": "stderr",
     "output_type": "stream",
     "text": [
      "/home/cine/miniconda3/envs/openmmlab-pose/lib/python3.8/site-packages/tqdm/auto.py:21: TqdmWarning: IProgress not found. Please update jupyter and ipywidgets. See https://ipywidgets.readthedocs.io/en/stable/user_install.html\n",
      "  from .autonotebook import tqdm as notebook_tqdm\n"
     ]
    },
    {
     "name": "stdout",
     "output_type": "stream",
     "text": [
      "Pytorch 版本 1.10.1+cu113\n",
      "CUDA 是否可用 True\n"
     ]
    }
   ],
   "source": [
    "# 检查 Pytorch\n",
    "import torch, torchvision\n",
    "print('Pytorch 版本', torch.__version__)\n",
    "print('CUDA 是否可用',torch.cuda.is_available())"
   ]
  },
  {
   "cell_type": "code",
   "execution_count": 11,
   "id": "96a6e738-d9d3-4e9f-a053-15bf2f29d43b",
   "metadata": {},
   "outputs": [
    {
     "name": "stdout",
     "output_type": "stream",
     "text": [
      "MMCV版本 2.0.0\n",
      "CUDA版本 11.3\n",
      "编译器版本 GCC 9.3\n"
     ]
    }
   ],
   "source": [
    "# 检查 mmcv\n",
    "import mmcv\n",
    "from mmcv.ops import get_compiling_cuda_version, get_compiler_version\n",
    "print('MMCV版本', mmcv.__version__)\n",
    "print('CUDA版本', get_compiling_cuda_version())\n",
    "print('编译器版本', get_compiler_version())"
   ]
  },
  {
   "cell_type": "code",
   "execution_count": 12,
   "id": "dae8b28c-fa1f-4911-ba27-50ed745e9679",
   "metadata": {},
   "outputs": [
    {
     "name": "stdout",
     "output_type": "stream",
     "text": [
      "mmpose版本 1.0.0\n"
     ]
    }
   ],
   "source": [
    "# 检查 mmpose\n",
    "import mmpose\n",
    "print('mmpose版本', mmpose.__version__)"
   ]
  },
  {
   "cell_type": "markdown",
   "id": "6f89f196-6f70-46a5-9715-ee4755717c13",
   "metadata": {},
   "source": [
    "没有报错，即证明安装成功。"
   ]
  },
  {
   "cell_type": "code",
   "execution_count": null,
   "id": "90954e26-49ee-42ad-b2ff-7514e8542db4",
   "metadata": {},
   "outputs": [],
   "source": []
  }
 ],
 "metadata": {
  "kernelspec": {
   "display_name": "Python 3 (ipykernel)",
   "language": "python",
   "name": "python3"
  },
  "language_info": {
   "codemirror_mode": {
    "name": "ipython",
    "version": 3
   },
   "file_extension": ".py",
   "mimetype": "text/x-python",
   "name": "python",
   "nbconvert_exporter": "python",
   "pygments_lexer": "ipython3",
   "version": "3.8.16"
  }
 },
 "nbformat": 4,
 "nbformat_minor": 5
}
