{
 "cells": [
  {
   "cell_type": "markdown",
   "id": "55e7ff6b-6d8f-4997-b1f3-5b32a9e2332f",
   "metadata": {},
   "source": [
    "# 安装MMDeploy部署环境"
   ]
  },
  {
   "cell_type": "markdown",
   "id": "2917ce40-28e2-40ec-8982-21f45f60686a",
   "metadata": {},
   "source": [
    "## 安装MMDeploy"
   ]
  },
  {
   "cell_type": "code",
   "execution_count": 6,
   "id": "1319265a-cd7b-47d0-923a-714de0e0dd6b",
   "metadata": {},
   "outputs": [],
   "source": [
    "!pip install mmdeploy==1.0.0"
   ]
  },
  {
   "cell_type": "markdown",
   "id": "ee1cde6c-a144-4f4e-a9b3-6360fe2f339f",
   "metadata": {},
   "source": [
    "## 安装ONNX Runtime"
   ]
  },
  {
   "cell_type": "code",
   "execution_count": 7,
   "id": "8613873b-e47e-48b0-909f-b5a926096ba1",
   "metadata": {},
   "outputs": [],
   "source": [
    "!pip install onnxruntime\n",
    "\n",
    "# !pip install onnxruntime-gpu"
   ]
  },
  {
   "cell_type": "markdown",
   "id": "052ad1db-4272-4d5e-92d0-3e61994cb353",
   "metadata": {},
   "source": [
    "## 下载MMDeploy"
   ]
  },
  {
   "cell_type": "code",
   "execution_count": 3,
   "id": "502d0e8d-3213-47da-aa2f-cb4f2dced4a6",
   "metadata": {},
   "outputs": [],
   "source": [
    "!rm -rf mmdeploy"
   ]
  },
  {
   "cell_type": "code",
   "execution_count": 4,
   "id": "7ffa4c69-e49c-490c-8b50-2b687f87173a",
   "metadata": {},
   "outputs": [
    {
     "name": "stdout",
     "output_type": "stream",
     "text": [
      "正克隆到 'mmdeploy'...\n",
      "remote: Enumerating objects: 23632, done.\u001b[K\n",
      "remote: Counting objects: 100% (5814/5814), done.\u001b[K\n",
      "remote: Compressing objects: 100% (840/840), done.\u001b[K\n",
      "remote: Total 23632 (delta 5137), reused 4996 (delta 4969), pack-reused 17818\u001b[K\n",
      "接收对象中: 100% (23632/23632), 12.06 MiB | 6.38 MiB/s, 完成.\n",
      "处理 delta 中: 100% (15418/15418), 完成.\n",
      "正在更新文件: 100% (1790/1790), 完成.\n"
     ]
    }
   ],
   "source": [
    "!git clone https://github.com/open-mmlab/mmdeploy.git"
   ]
  },
  {
   "cell_type": "markdown",
   "id": "44ff137d-a0e6-453f-bec5-ebd8bac65ea3",
   "metadata": {},
   "source": [
    "## 验证安装成功"
   ]
  },
  {
   "cell_type": "code",
   "execution_count": 5,
   "id": "fff5831a-d788-493b-a4ab-396991243d5a",
   "metadata": {},
   "outputs": [
    {
     "name": "stdout",
     "output_type": "stream",
     "text": [
      "MMDeploy 版本 1.0.0\n"
     ]
    }
   ],
   "source": [
    "import mmdeploy\n",
    "print('MMDeploy 版本', mmdeploy.__version__)"
   ]
  },
  {
   "cell_type": "code",
   "execution_count": null,
   "id": "c4e044ec-72a2-49cb-9ef1-d7ac17fd1e63",
   "metadata": {},
   "outputs": [],
   "source": []
  }
 ],
 "metadata": {
  "kernelspec": {
   "display_name": "Python 3 (ipykernel)",
   "language": "python",
   "name": "python3"
  },
  "language_info": {
   "codemirror_mode": {
    "name": "ipython",
    "version": 3
   },
   "file_extension": ".py",
   "mimetype": "text/x-python",
   "name": "python",
   "nbconvert_exporter": "python",
   "pygments_lexer": "ipython3",
   "version": "3.8.16"
  }
 },
 "nbformat": 4,
 "nbformat_minor": 5
}
