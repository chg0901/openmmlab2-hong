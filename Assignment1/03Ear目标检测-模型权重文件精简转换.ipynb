{
 "cells": [
  {
   "cell_type": "markdown",
   "id": "d428e1e5-5b7b-4e16-880c-bdb3d3d1f6e4",
   "metadata": {},
   "source": [
    "# Ear目标检测-模型权重文件精简转换 \n",
    "\n",
    "Base 同济子豪兄 2023-4-5 三角板目标检测-模型权重文件精简转换\n",
    "\n",
    "经过精简转换之后，模型.pth权重文件大小缩小为原来的一半以上，但不影响推理结果和推理速度"
   ]
  },
  {
   "cell_type": "markdown",
   "id": "06a39b7b-017c-4193-9387-dce43396f96c",
   "metadata": {
    "tags": []
   },
   "source": [
    "## 进入 mmdetection 主目录"
   ]
  },
  {
   "cell_type": "code",
   "execution_count": 2,
   "id": "a1103085-107b-4ef7-9a04-cb2e5ce2a6f0",
   "metadata": {},
   "outputs": [],
   "source": [
    "import os\n",
    "os.chdir('mmdetection')"
   ]
  },
  {
   "cell_type": "markdown",
   "id": "ee6e1cbd-326c-49fb-a77f-555252e5d179",
   "metadata": {},
   "source": [
    "## 模型轻量化转换"
   ]
  },
  {
   "cell_type": "code",
   "execution_count": 2,
   "id": "c48d0c2b-bdb1-4f63-9f0a-f485f37b1e4b",
   "metadata": {},
   "outputs": [
    {
     "name": "stdout",
     "output_type": "stream",
     "text": [
      "06/04 17:35:15 - mmengine - \u001b[4m\u001b[97mINFO\u001b[0m - Key `message_hub` will be removed because it is not in save_keys. If you want to keep it, please set --save-keys.\n",
      "06/04 17:35:15 - mmengine - \u001b[4m\u001b[97mINFO\u001b[0m - Key `ema_state_dict` will be removed because it is not in save_keys. If you want to keep it, please set --save-keys.\n",
      "06/04 17:35:15 - mmengine - \u001b[4m\u001b[97mINFO\u001b[0m - The published model is saved at work_dirs/rtmdet_tiny_Ear/best_coco_bbox_mAP_epoch_196_zip-dc2ee3bc.pth.\n"
     ]
    }
   ],
   "source": [
    "# RTMDet-tiny\n",
    "!python tools/model_converters/publish_model.py \\\n",
    "        work_dirs/rtmdet_tiny_Ear/best_coco_bbox_mAP_epoch_196.pth  \\\n",
    "        work_dirs/rtmdet_tiny_Ear/best_coco_bbox_mAP_epoch_196_zip.pth\n",
    "# checkpoint/rtmdet_tiny_Ear/best_coco_bbox_mAP_epoch_196_zip.pth"
   ]
  },
  {
   "cell_type": "code",
   "execution_count": 3,
   "id": "5e66506d-3242-42f7-86ba-4bb339233f5e",
   "metadata": {},
   "outputs": [
    {
     "name": "stdout",
     "output_type": "stream",
     "text": [
      "06/04 17:37:10 - mmengine - \u001b[4m\u001b[97mINFO\u001b[0m - Key `message_hub` will be removed because it is not in save_keys. If you want to keep it, please set --save-keys.\n",
      "06/04 17:37:10 - mmengine - \u001b[4m\u001b[97mINFO\u001b[0m - Key `optimizer` will be removed because it is not in save_keys. If you want to keep it, please set --save-keys.\n",
      "06/04 17:37:10 - mmengine - \u001b[4m\u001b[97mINFO\u001b[0m - Key `param_schedulers` will be removed because it is not in save_keys. If you want to keep it, please set --save-keys.\n",
      "06/04 17:37:10 - mmengine - \u001b[4m\u001b[97mINFO\u001b[0m - Key `ema_state_dict` will be removed because it is not in save_keys. If you want to keep it, please set --save-keys.\n",
      "06/04 17:37:10 - mmengine - \u001b[4m\u001b[97mINFO\u001b[0m - The published model is saved at work_dirs/rtmdet_tiny_Ear/epoch_196_zip-a97f30d5.pth.\n"
     ]
    }
   ],
   "source": [
    "# RTMDet-tiny\n",
    "!python tools/model_converters/publish_model.py \\\n",
    "        work_dirs/rtmdet_tiny_Ear/epoch_196.pth  \\\n",
    "        work_dirs/rtmdet_tiny_Ear/epoch_196_zip.pth\n",
    "# checkpoint/rtmdet_tiny_Ear/best_coco_bbox_mAP_epoch_196_zip.pth"
   ]
  },
  {
   "cell_type": "markdown",
   "id": "7f3d5046-1454-418a-9be4-669957e7ca19",
   "metadata": {},
   "source": [
    "### rtmpose-s-Ear 模型轻量化转换"
   ]
  },
  {
   "cell_type": "code",
   "execution_count": 3,
   "id": "e1031588-f69f-4076-8c1a-4b313957a069",
   "metadata": {},
   "outputs": [
    {
     "name": "stdout",
     "output_type": "stream",
     "text": [
      "06/04 22:05:48 - mmengine - \u001b[4m\u001b[97mINFO\u001b[0m - Key `message_hub` will be removed because it is not in save_keys. If you want to keep it, please set --save-keys.\n",
      "06/04 22:05:48 - mmengine - \u001b[4m\u001b[97mINFO\u001b[0m - Key `ema_state_dict` will be removed because it is not in save_keys. If you want to keep it, please set --save-keys.\n",
      "06/04 22:05:48 - mmengine - \u001b[4m\u001b[97mINFO\u001b[0m - The published model is saved at ../mmpose/work_dirs/rtmpose-s-Ear/best_PCK_epoch_255_zip-d1bf22ba.pth.\n"
     ]
    }
   ],
   "source": [
    "# RTMDet-tiny\n",
    "!python tools/model_converters/publish_model.py \\\n",
    "        ../mmpose/work_dirs/rtmpose-s-Ear/best_PCK_epoch_255.pth \\\n",
    "        ../mmpose/work_dirs/rtmpose-s-Ear/best_PCK_epoch_255_zip.pth"
   ]
  },
  {
   "cell_type": "markdown",
   "id": "bef2eb2b-ea1a-4dde-a5e2-c508ea37cb98",
   "metadata": {},
   "source": [
    "## 模型权重文件保存在`checkpoint`目录"
   ]
  },
  {
   "cell_type": "code",
   "execution_count": null,
   "id": "15ff1eb9-c9cb-4a7f-a6d5-d25e31968a46",
   "metadata": {},
   "outputs": [],
   "source": []
  }
 ],
 "metadata": {
  "kernelspec": {
   "display_name": "Python 3",
   "language": "python",
   "name": "python3"
  },
  "language_info": {
   "codemirror_mode": {
    "name": "ipython",
    "version": 3
   },
   "file_extension": ".py",
   "mimetype": "text/x-python",
   "name": "python",
   "nbconvert_exporter": "python",
   "pygments_lexer": "ipython3",
   "version": "3.8.16"
  }
 },
 "nbformat": 4,
 "nbformat_minor": 5
}
