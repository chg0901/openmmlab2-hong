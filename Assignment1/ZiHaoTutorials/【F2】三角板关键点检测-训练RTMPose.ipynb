{
 "cells": [
  {
   "cell_type": "markdown",
   "id": "f60f9207-843d-4c0f-a359-29a7ac352e4e",
   "metadata": {},
   "source": [
    "# 三角板关键点检测-训练RTMPose\n",
    "\n",
    "同济子豪兄 2023-4-3 5-23"
   ]
  },
  {
   "cell_type": "markdown",
   "id": "1f169d12-1db1-4a26-a9b9-e6dfc0ac360c",
   "metadata": {
    "tags": []
   },
   "source": [
    "## 进入 mmpose 主目录"
   ]
  },
  {
   "cell_type": "code",
   "execution_count": 1,
   "id": "30698c47-bfb2-4cd8-a4e8-906fa566d601",
   "metadata": {},
   "outputs": [],
   "source": [
    "import os\n",
    "os.chdir('mmpose')"
   ]
  },
  {
   "cell_type": "markdown",
   "id": "71767f86-654b-4337-9d3d-d7cc99e85c4f",
   "metadata": {},
   "source": [
    "## 训练（建议在命令行中运行）"
   ]
  },
  {
   "cell_type": "code",
   "execution_count": 3,
   "id": "12eb91fb-054c-4a40-857f-f3288d9f42e2",
   "metadata": {},
   "outputs": [],
   "source": [
    "!python tools/train.py data/rtmpose-s-triangle.py"
   ]
  },
  {
   "cell_type": "markdown",
   "id": "c9e9f6ad-b72b-43c6-bbc0-0daeb635930c",
   "metadata": {},
   "source": [
    "## 测试集上评估模型精度"
   ]
  },
  {
   "cell_type": "code",
   "execution_count": 1,
   "id": "ed282098-a33e-4a02-a1f9-3a87c9a57213",
   "metadata": {},
   "outputs": [],
   "source": [
    "!python tools/test.py data/rtmpose-s-triangle.py \\\n",
    "                      work_dirs/rtmpose-s-triangle/epoch_300.pth"
   ]
  },
  {
   "cell_type": "code",
   "execution_count": null,
   "id": "0af12ea2-213b-4b40-ac88-2e9c61fcf1bf",
   "metadata": {},
   "outputs": [],
   "source": []
  }
 ],
 "metadata": {
  "kernelspec": {
   "display_name": "Python 3 (ipykernel)",
   "language": "python",
   "name": "python3"
  },
  "language_info": {
   "codemirror_mode": {
    "name": "ipython",
    "version": 3
   },
   "file_extension": ".py",
   "mimetype": "text/x-python",
   "name": "python",
   "nbconvert_exporter": "python",
   "pygments_lexer": "ipython3",
   "version": "3.8.16"
  }
 },
 "nbformat": 4,
 "nbformat_minor": 5
}
