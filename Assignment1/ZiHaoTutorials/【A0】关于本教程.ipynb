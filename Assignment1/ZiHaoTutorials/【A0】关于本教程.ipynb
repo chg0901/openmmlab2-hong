{
 "cells": [
  {
   "cell_type": "markdown",
   "id": "4219b911-3e91-4ed5-bf03-e89336c24be9",
   "metadata": {
    "tags": []
   },
   "source": [
    "# 关于本教程\n",
    "\n",
    "2023-04-06 第一版\n",
    "\n",
    "2023-05-12 第二版\n",
    "\n",
    "2023-05-19 录制视频\n",
    "\n",
    "2023-05-24 第三版\n",
    "\n",
    "## 概述\n",
    "\n",
    "以三角板关键点检测场景为例，结合OpenMMLab开源目标检测算法库MMDetection、开源关键点检测算法库MMPose、开源模型部署算法库MMDeploy，全面讲解项目全流程：\n",
    "\n",
    "- 数据集：Labelme标注数据集、整理标注格式至MS COCO\n",
    "\n",
    "- 目标检测：分别训练`Faster R CNN`和`RTMDet-Tiny`目标检测模型、训练日志可视化、测试集评估、对图像、摄像头画面预测\n",
    "\n",
    "- 关键点检测：训练`RTMPose-S`关键点检测模型、训练日志可视化、测试集上评估、分别对“图像、视频、摄像头画面”预测\n",
    "\n",
    "- 模型终端部署：转ONNX格式，终端推理\n",
    "\n",
    "视频教程合集：https://space.bilibili.com/1900783/channel/collectiondetail?sid=1316981\n",
    "\n",
    "## 作者\n",
    "\n",
    "张子豪（同济子豪兄）：https://space.bilibili.com/1900783\n",
    "\n",
    "## 特别感谢\n",
    "\n",
    "菜狗闻星：https://github.com/vansin\n",
    "\n",
    "李亦宁：https://github.com/ly015\n",
    "\n",
    "镜子（公众号-镜子的掌纹，RTMPose作者）：https://github.com/Tau-J\n",
    "\n",
    "卢鹏：https://github.com/Ben-Louis\n",
    "\n",
    "田文博：https://github.com/wenbo0117\n",
    "\n",
    "陈鑫：https://github.com/irexyc\n",
    "\n",
    "## RTMPose算法讲解\n",
    "\n",
    "https://www.bilibili.com/video/BV1Wc411p7HT\n",
    "\n",
    "## MMPose/MMHuman3D/关键点检测交流群\n",
    "\n",
    "公众号 OpenMMLab 回复 子豪兄三角板\n",
    "\n",
    "免费加入MMPose/MMHuman3D/关键点检测交流群，有问必答\n",
    "\n",
    "喵喵微信号：OpenMMLabwx"
   ]
  },
  {
   "cell_type": "code",
   "execution_count": null,
   "id": "ea14604c-6666-4305-ac0e-fd4e738f190d",
   "metadata": {},
   "outputs": [],
   "source": []
  }
 ],
 "metadata": {
  "kernelspec": {
   "display_name": "Python 3 (ipykernel)",
   "language": "python",
   "name": "python3"
  },
  "language_info": {
   "codemirror_mode": {
    "name": "ipython",
    "version": 3
   },
   "file_extension": ".py",
   "mimetype": "text/x-python",
   "name": "python",
   "nbconvert_exporter": "python",
   "pygments_lexer": "ipython3",
   "version": "3.7.10"
  }
 },
 "nbformat": 4,
 "nbformat_minor": 5
}
