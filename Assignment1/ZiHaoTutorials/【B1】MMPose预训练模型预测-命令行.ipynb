{
 "cells": [
  {
   "cell_type": "markdown",
   "id": "784ce4a0-b0db-42c8-8c29-0dd3314fe397",
   "metadata": {},
   "source": [
    "# MMPose预训练模型预测-命令行\n",
    "\n",
    "同济子豪兄 2023-4-3"
   ]
  },
  {
   "cell_type": "markdown",
   "id": "23306f50-79b9-44f8-b34c-857b838db0a5",
   "metadata": {
    "tags": []
   },
   "source": [
    "## 进入 mmpose 主目录"
   ]
  },
  {
   "cell_type": "code",
   "execution_count": 1,
   "id": "83f7c5db-0919-484d-ac50-e2cf666b5fb6",
   "metadata": {},
   "outputs": [],
   "source": [
    "import os\n",
    "os.chdir('mmpose')"
   ]
  },
  {
   "cell_type": "markdown",
   "id": "a16bd452-c4bd-4c74-99e2-5eb5f860e1f9",
   "metadata": {},
   "source": [
    "## 一些图像和视频素材"
   ]
  },
  {
   "cell_type": "code",
   "execution_count": 2,
   "id": "ac34dda5-4965-4d23-8aab-82a718cdb5f8",
   "metadata": {},
   "outputs": [],
   "source": [
    "# 一些素材\n",
    "\n",
    "# data/test/multi-person.jpeg\n",
    "\n",
    "# data/test/cxk.mp4\n",
    "\n",
    "# data/test/two_dancers.mp4"
   ]
  },
  {
   "cell_type": "markdown",
   "id": "15ce5360-b4e1-4c51-be8b-2754aaf0da25",
   "metadata": {},
   "source": [
    "## 模型库预训练模型\n",
    "\n",
    "- 目标检测模型\n",
    "\n",
    "MMDetection模型库：https://github.com/open-mmlab/mmdetection/blob/master/docs/en/model_zoo.md\n",
    "\n",
    "demo/mmdetection_cfg/faster_rcnn_r50_fpn_coco.py\n",
    "\n",
    "https://download.openmmlab.com/mmdetection/v2.0/faster_rcnn/faster_rcnn_r50_fpn_1x_coco/faster_rcnn_r50_fpn_1x_coco_20200130-047c8118.pth\n",
    "\n",
    "- MMPose人体姿态估计模型\n",
    "\n",
    "configs/body_2d_keypoint/topdown_heatmap/coco/td-hm_hrnet-w32_8xb64-210e_coco-256x192.py\n",
    "\n",
    "https://download.openmmlab.com/mmpose/top_down/hrnet/hrnet_w32_coco_256x192-c78dce93_20200708.pth\n",
    "\n",
    "- RTMPose人体姿态估计模型\n",
    "\n",
    "RTMPose主页：https://github.com/open-mmlab/mmpose/tree/dev-1.x/projects/rtmpose\n",
    "\n",
    "> RTMPose-S\n",
    "\n",
    "projects/rtmpose/rtmpose/body_2d_keypoint/rtmpose-s_8xb256-420e_coco-256x192.py\n",
    "\n",
    "https://download.openmmlab.com/mmpose/v1/projects/rtmpose/rtmpose-s_simcc-aic-coco_pt-aic-coco_420e-256x192-fcb2599b_20230126.pth\n",
    "\n",
    "> RTMPose-L\n",
    "\n",
    "projects/rtmpose/rtmpose/body_2d_keypoint/rtmpose-l_8xb256-420e_coco-384x288.py\n",
    "\n",
    "https://download.openmmlab.com/mmpose/v1/projects/rtmpose/rtmpose-l_simcc-aic-coco_pt-aic-coco_420e-384x288-97d6cb0f_20230228.pth"
   ]
  },
  {
   "cell_type": "markdown",
   "id": "a74faf58-4237-42e6-be61-b0c7e262fc6e",
   "metadata": {},
   "source": [
    "## 预测单张图像"
   ]
  },
  {
   "cell_type": "code",
   "execution_count": 2,
   "id": "67499aff-d83e-4fee-8db9-f5d68388fdb5",
   "metadata": {},
   "outputs": [
    {
     "name": "stdout",
     "output_type": "stream",
     "text": [
      "Loads checkpoint by http backend from path: https://download.openmmlab.com/mmdetection/v2.0/faster_rcnn/faster_rcnn_r50_fpn_1x_coco/faster_rcnn_r50_fpn_1x_coco_20200130-047c8118.pth\n",
      "Loads checkpoint by http backend from path: https://download.openmmlab.com/mmpose/top_down/hrnet/hrnet_w32_coco_256x192-c78dce93_20200708.pth\n",
      "Downloading: \"https://download.openmmlab.com/mmpose/top_down/hrnet/hrnet_w32_coco_256x192-c78dce93_20200708.pth\" to /home/cine/.cache/torch/hub/checkpoints/hrnet_w32_coco_256x192-c78dce93_20200708.pth\n",
      "100%|████████████████████████████████████████| 109M/109M [00:09<00:00, 11.8MB/s]\n",
      "06/04 11:37:58 - mmengine - \u001b[5m\u001b[4m\u001b[33mWARNING\u001b[0m - `Visualizer` backend is not initialized because save_dir is None.\n"
     ]
    }
   ],
   "source": [
    "# HRNet\n",
    "!python demo/topdown_demo_with_mmdet.py \\\n",
    "        demo/mmdetection_cfg/faster_rcnn_r50_fpn_coco.py \\\n",
    "        https://download.openmmlab.com/mmdetection/v2.0/faster_rcnn/faster_rcnn_r50_fpn_1x_coco/faster_rcnn_r50_fpn_1x_coco_20200130-047c8118.pth \\\n",
    "        configs/body_2d_keypoint/topdown_heatmap/coco/td-hm_hrnet-w32_8xb64-210e_coco-256x192.py \\\n",
    "        https://download.openmmlab.com/mmpose/top_down/hrnet/hrnet_w32_coco_256x192-c78dce93_20200708.pth \\\n",
    "        --input data/test/multi-person.jpeg \\\n",
    "        --output-root outputs/B1_HRNet_1 \\\n",
    "        --device cuda:0 \\\n",
    "        --bbox-thr 0.5 \\\n",
    "        --kpt-thr 0.2 \\\n",
    "        --nms-thr 0.3 \\\n",
    "        --radius 8 \\\n",
    "        --thickness 4 \\\n",
    "        --draw-bbox \\\n",
    "        --draw-heatmap \\\n",
    "        --show-kpt-idx"
   ]
  },
  {
   "cell_type": "code",
   "execution_count": 3,
   "id": "93eefc16-24d5-46b9-b401-72534458b3dd",
   "metadata": {},
   "outputs": [
    {
     "name": "stdout",
     "output_type": "stream",
     "text": [
      "Loads checkpoint by http backend from path: https://download.openmmlab.com/mmdetection/v2.0/faster_rcnn/faster_rcnn_r50_fpn_1x_coco/faster_rcnn_r50_fpn_1x_coco_20200130-047c8118.pth\n",
      "Loads checkpoint by http backend from path: https://download.openmmlab.com/mmpose/v1/projects/rtmpose/rtmpose-s_simcc-aic-coco_pt-aic-coco_420e-256x192-fcb2599b_20230126.pth\n",
      "Downloading: \"https://download.openmmlab.com/mmpose/v1/projects/rtmpose/rtmpose-s_simcc-aic-coco_pt-aic-coco_420e-256x192-fcb2599b_20230126.pth\" to /home/cine/.cache/torch/hub/checkpoints/rtmpose-s_simcc-aic-coco_pt-aic-coco_420e-256x192-fcb2599b_20230126.pth\n",
      "100%|██████████████████████████████████████| 60.8M/60.8M [00:07<00:00, 8.98MB/s]\n",
      "06/04 11:38:26 - mmengine - \u001b[5m\u001b[4m\u001b[33mWARNING\u001b[0m - `Visualizer` backend is not initialized because save_dir is None.\n",
      "/home/cine/Documents/MMPose/mmpose/mmpose/models/heads/coord_cls_heads/rtmcc_head.py:217: UserWarning: The predicted simcc values are normalized for visualization. This may cause discrepancy between the keypoint scores and the 1D heatmaps.\n",
      "  warnings.warn('The predicted simcc values are normalized for '\n"
     ]
    }
   ],
   "source": [
    "# RTMPose\n",
    "!python demo/topdown_demo_with_mmdet.py \\\n",
    "        demo/mmdetection_cfg/faster_rcnn_r50_fpn_coco.py \\\n",
    "        https://download.openmmlab.com/mmdetection/v2.0/faster_rcnn/faster_rcnn_r50_fpn_1x_coco/faster_rcnn_r50_fpn_1x_coco_20200130-047c8118.pth \\\n",
    "        projects/rtmpose/rtmpose/body_2d_keypoint/rtmpose-s_8xb256-420e_coco-256x192.py \\\n",
    "        https://download.openmmlab.com/mmpose/v1/projects/rtmpose/rtmpose-s_simcc-aic-coco_pt-aic-coco_420e-256x192-fcb2599b_20230126.pth \\\n",
    "        --input data/test/multi-person.jpeg \\\n",
    "        --output-root outputs/B1_RTM_1 \\\n",
    "        --device cuda:0 \\\n",
    "        --bbox-thr 0.5 \\\n",
    "        --kpt-thr 0.5 \\\n",
    "        --nms-thr 0.3 \\\n",
    "        --radius 8 \\\n",
    "        --thickness 4 \\\n",
    "        --draw-bbox \\\n",
    "        --draw-heatmap \\\n",
    "        --show-kpt-idx"
   ]
  },
  {
   "cell_type": "markdown",
   "id": "34c88527-125b-46da-9d89-9c07fccad9a5",
   "metadata": {},
   "source": [
    "## 预测视频：直接将`--input`换成视频路径即可"
   ]
  },
  {
   "cell_type": "code",
   "execution_count": 4,
   "id": "371d4c31-eb0f-4469-a5ec-cf73989c357d",
   "metadata": {},
   "outputs": [
    {
     "name": "stdout",
     "output_type": "stream",
     "text": [
      "Loads checkpoint by http backend from path: https://download.openmmlab.com/mmdetection/v2.0/faster_rcnn/faster_rcnn_r50_fpn_1x_coco/faster_rcnn_r50_fpn_1x_coco_20200130-047c8118.pth\n",
      "Loads checkpoint by http backend from path: https://download.openmmlab.com/mmpose/top_down/hrnet/hrnet_w32_coco_256x192-c78dce93_20200708.pth\n",
      "05/18 09:10:55 - mmengine - \u001b[5m\u001b[4m\u001b[33mWARNING\u001b[0m - `Visualizer` backend is not initialized because save_dir is None.\n"
     ]
    }
   ],
   "source": [
    "# HRNet\n",
    "!python demo/topdown_demo_with_mmdet.py \\\n",
    "        demo/mmdetection_cfg/faster_rcnn_r50_fpn_coco.py \\\n",
    "        https://download.openmmlab.com/mmdetection/v2.0/faster_rcnn/faster_rcnn_r50_fpn_1x_coco/faster_rcnn_r50_fpn_1x_coco_20200130-047c8118.pth \\\n",
    "        configs/body_2d_keypoint/topdown_heatmap/coco/td-hm_hrnet-w32_8xb64-210e_coco-256x192.py \\\n",
    "        https://download.openmmlab.com/mmpose/top_down/hrnet/hrnet_w32_coco_256x192-c78dce93_20200708.pth \\\n",
    "        --input data/test/mother_wx.mp4 \\\n",
    "        --output-root outputs/B1_HRNet_2 \\\n",
    "        --device cuda:0 \\\n",
    "        --bbox-thr 0.5 \\\n",
    "        --kpt-thr 0.2 \\\n",
    "        --nms-thr 0.3 \\\n",
    "        --radius 5 \\\n",
    "        --thickness 2 \\\n",
    "        --draw-bbox \\\n",
    "        --draw-heatmap \\\n",
    "        --show-kpt-idx"
   ]
  },
  {
   "cell_type": "code",
   "execution_count": 5,
   "id": "778ee737-44fc-4fc6-a31f-16aff9008a8d",
   "metadata": {},
   "outputs": [
    {
     "name": "stdout",
     "output_type": "stream",
     "text": [
      "Loads checkpoint by http backend from path: https://download.openmmlab.com/mmdetection/v2.0/faster_rcnn/faster_rcnn_r50_fpn_1x_coco/faster_rcnn_r50_fpn_1x_coco_20200130-047c8118.pth\n",
      "Loads checkpoint by http backend from path: https://download.openmmlab.com/mmpose/v1/projects/rtmpose/rtmpose-s_simcc-aic-coco_pt-aic-coco_420e-256x192-fcb2599b_20230126.pth\n",
      "05/18 09:11:49 - mmengine - \u001b[5m\u001b[4m\u001b[33mWARNING\u001b[0m - `Visualizer` backend is not initialized because save_dir is None.\n",
      "/home/featurize/work/关键点检测/0518录制/mmpose/mmpose/mmpose/models/heads/coord_cls_heads/rtmcc_head.py:217: UserWarning: The predicted simcc values are normalized for visualization. This may cause discrepancy between the keypoint scores and the 1D heatmaps.\n",
      "  warnings.warn('The predicted simcc values are normalized for '\n"
     ]
    }
   ],
   "source": [
    "# RTMPose\n",
    "!python demo/topdown_demo_with_mmdet.py \\\n",
    "        demo/mmdetection_cfg/faster_rcnn_r50_fpn_coco.py \\\n",
    "        https://download.openmmlab.com/mmdetection/v2.0/faster_rcnn/faster_rcnn_r50_fpn_1x_coco/faster_rcnn_r50_fpn_1x_coco_20200130-047c8118.pth \\\n",
    "        projects/rtmpose/rtmpose/body_2d_keypoint/rtmpose-s_8xb256-420e_coco-256x192.py \\\n",
    "        https://download.openmmlab.com/mmpose/v1/projects/rtmpose/rtmpose-s_simcc-aic-coco_pt-aic-coco_420e-256x192-fcb2599b_20230126.pth \\\n",
    "        --input data/test/mother_wx.mp4 \\\n",
    "        --output-root outputs/B1_RTM_2 \\\n",
    "        --device cuda:0 \\\n",
    "        --bbox-thr 0.5 \\\n",
    "        --kpt-thr 0.5 \\\n",
    "        --nms-thr 0.3 \\\n",
    "        --radius 5 \\\n",
    "        --thickness 2 \\\n",
    "        --draw-bbox \\\n",
    "        --draw-heatmap \\\n",
    "        --show-kpt-idx"
   ]
  },
  {
   "cell_type": "code",
   "execution_count": null,
   "id": "3f18b27e-1e97-45f7-b2e6-57215bfa6de2",
   "metadata": {},
   "outputs": [],
   "source": []
  }
 ],
 "metadata": {
  "kernelspec": {
   "display_name": "Python 3 (ipykernel)",
   "language": "python",
   "name": "python3"
  },
  "language_info": {
   "codemirror_mode": {
    "name": "ipython",
    "version": 3
   },
   "file_extension": ".py",
   "mimetype": "text/x-python",
   "name": "python",
   "nbconvert_exporter": "python",
   "pygments_lexer": "ipython3",
   "version": "3.8.16"
  }
 },
 "nbformat": 4,
 "nbformat_minor": 5
}
