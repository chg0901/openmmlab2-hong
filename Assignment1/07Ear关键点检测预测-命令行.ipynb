{
 "cells": [
  {
   "cell_type": "markdown",
   "id": "466a64ed-7068-4a92-9755-84ea56de799d",
   "metadata": {},
   "source": [
    "# Ear关键点检测预测-命令行\n",
    "\n",
    "\n",
    "Base 同济子豪兄 2023-5-23 关键点检测-训练RTMPose"
   ]
  },
  {
   "cell_type": "markdown",
   "id": "90f3a192-6e82-493d-ad66-f3c8cf16ece5",
   "metadata": {
    "tags": []
   },
   "source": [
    "## 进入 mmpose 主目录"
   ]
  },
  {
   "cell_type": "code",
   "execution_count": 3,
   "id": "801da2ce-97c1-47a2-a211-86336b6f0679",
   "metadata": {},
   "outputs": [],
   "source": [
    "import os\n",
    "os.chdir('mmpose')"
   ]
  },
  {
   "cell_type": "markdown",
   "id": "8ed4d058-f23c-40d1-a662-910cce1be52b",
   "metadata": {},
   "source": [
    "## 单张图像-关键点检测预测"
   ]
  },
  {
   "cell_type": "code",
   "execution_count": 4,
   "id": "cab9972f-3694-4cb1-87f2-5a55d5feca5d",
   "metadata": {},
   "outputs": [],
   "source": [
    "# # Faster R CNN --> RTMPose\n",
    "# !python demo/topdown_demo_with_mmdet.py \\\n",
    "#         data/faster_r_cnn_triangle.py \\\n",
    "#         checkpoint/faster_r_cnn_triangle_epoch_50_202305120846-76d9dde3.pth \\\n",
    "#         data/rtmpose-s-triangle.py \\\n",
    "#         checkpoint/rtmpose-s-triangle-300-32642023_20230524.pth \\\n",
    "#         --input data/test_triangle/triangle_4.jpg \\\n",
    "#         --output-root outputs/G2_Fasterrcnn-RTMPose \\\n",
    "#         --device cuda:0 \\\n",
    "#         --bbox-thr 0.5 \\\n",
    "#         --kpt-thr 0.5 \\\n",
    "#         --nms-thr 0.3 \\\n",
    "#         --radius 36 \\\n",
    "#         --thickness 30 \\\n",
    "#         --draw-bbox \\\n",
    "#         --draw-heatmap \\\n",
    "#         --show-kpt-idx"
   ]
  },
  {
   "cell_type": "code",
   "execution_count": 5,
   "id": "0696f950-5459-493c-bc75-e04123eab06f",
   "metadata": {
    "scrolled": true
   },
   "outputs": [
    {
     "name": "stdout",
     "output_type": "stream",
     "text": [
      "Loads checkpoint by local backend from path: ../mmdetection/work_dirs/rtmdet_tiny_Ear/best_coco_bbox_mAP_epoch_196_zip-dc2ee3bc.pth\n",
      "Loads checkpoint by local backend from path: work_dirs/rtmpose-s-Ear/best_PCK_epoch_255_zip-d1bf22ba.pth\n",
      "06/04 22:06:41 - mmengine - \u001b[5m\u001b[4m\u001b[33mWARNING\u001b[0m - `Visualizer` backend is not initialized because save_dir is None.\n",
      "/home/cine/miniconda3/envs/openmmlab-pose/lib/python3.8/site-packages/torch/functional.py:445: UserWarning: torch.meshgrid: in an upcoming release, it will be required to pass the indexing argument. (Triggered internally at  ../aten/src/ATen/native/TensorShape.cpp:2157.)\n",
      "  return _VF.meshgrid(tensors, **kwargs)  # type: ignore[attr-defined]\n",
      "/home/cine/Documents/MMPose/mmpose/mmpose/models/heads/coord_cls_heads/rtmcc_head.py:217: UserWarning: The predicted simcc values are normalized for visualization. This may cause discrepancy between the keypoint scores and the 1D heatmaps.\n",
      "  warnings.warn('The predicted simcc values are normalized for '\n"
     ]
    }
   ],
   "source": [
    "# RTMDet --> RTMPose\n",
    "!python demo/topdown_demo_with_mmdet.py \\\n",
    "        data/rtmdet_tiny_Ear2.py \\\n",
    "        ../mmdetection/work_dirs/rtmdet_tiny_Ear/best_coco_bbox_mAP_epoch_196_zip-dc2ee3bc.pth \\\n",
    "        data/rtmpose-s-Ear.py \\\n",
    "        work_dirs/rtmpose-s-Ear/best_PCK_epoch_255_zip-d1bf22ba.pth \\\n",
    "        --input ../MyEar/Ear.jpg \\\n",
    "        --output-root ../MyEar/RTMDet-RTMPose \\\n",
    "        --device cuda:0 \\\n",
    "        --bbox-thr 0.5 \\\n",
    "        --kpt-thr 0.5 \\\n",
    "        --nms-thr 0.3 \\\n",
    "        --radius 20 \\\n",
    "        --thickness 20 \\\n",
    "        --draw-bbox \\\n",
    "        --draw-heatmap \\\n",
    "        --show-kpt-idx"
   ]
  },
  {
   "cell_type": "markdown",
   "id": "dd73e683-9186-4868-ade0-ea8dfa5bacd8",
   "metadata": {},
   "source": [
    "## 视频-关键点检测预测"
   ]
  },
  {
   "cell_type": "code",
   "execution_count": 6,
   "id": "22c18333-b46a-4072-bc2a-42a82edf9c3e",
   "metadata": {},
   "outputs": [
    {
     "name": "stdout",
     "output_type": "stream",
     "text": [
      "Loads checkpoint by local backend from path: ../mmdetection/work_dirs/rtmdet_tiny_Ear/best_coco_bbox_mAP_epoch_196_zip-dc2ee3bc.pth\n",
      "Loads checkpoint by local backend from path: work_dirs/rtmpose-s-Ear/best_PCK_epoch_255_zip-d1bf22ba.pth\n",
      "06/04 22:06:49 - mmengine - \u001b[5m\u001b[4m\u001b[33mWARNING\u001b[0m - `Visualizer` backend is not initialized because save_dir is None.\n",
      "/home/cine/miniconda3/envs/openmmlab-pose/lib/python3.8/site-packages/torch/functional.py:445: UserWarning: torch.meshgrid: in an upcoming release, it will be required to pass the indexing argument. (Triggered internally at  ../aten/src/ATen/native/TensorShape.cpp:2157.)\n",
      "  return _VF.meshgrid(tensors, **kwargs)  # type: ignore[attr-defined]\n",
      "/home/cine/Documents/MMPose/mmpose/mmpose/models/heads/coord_cls_heads/rtmcc_head.py:217: UserWarning: The predicted simcc values are normalized for visualization. This may cause discrepancy between the keypoint scores and the 1D heatmaps.\n",
      "  warnings.warn('The predicted simcc values are normalized for '\n",
      "/home/cine/Documents/MMPose/mmpose/mmpose/structures/utils.py:36: UserWarning: Try to merge an empty list of data samples.\n",
      "  warnings.warn('Try to merge an empty list of data samples.')\n",
      "Loads checkpoint by local backend from path: ../mmdetection/work_dirs/rtmdet_tiny_Ear/best_coco_bbox_mAP_epoch_196_zip-dc2ee3bc.pth\n",
      "Loads checkpoint by local backend from path: work_dirs/rtmpose-s-Ear/best_PCK_epoch_255_zip-d1bf22ba.pth\n",
      "06/04 22:07:15 - mmengine - \u001b[5m\u001b[4m\u001b[33mWARNING\u001b[0m - `Visualizer` backend is not initialized because save_dir is None.\n",
      "/home/cine/miniconda3/envs/openmmlab-pose/lib/python3.8/site-packages/torch/functional.py:445: UserWarning: torch.meshgrid: in an upcoming release, it will be required to pass the indexing argument. (Triggered internally at  ../aten/src/ATen/native/TensorShape.cpp:2157.)\n",
      "  return _VF.meshgrid(tensors, **kwargs)  # type: ignore[attr-defined]\n",
      "/home/cine/Documents/MMPose/mmpose/mmpose/models/heads/coord_cls_heads/rtmcc_head.py:217: UserWarning: The predicted simcc values are normalized for visualization. This may cause discrepancy between the keypoint scores and the 1D heatmaps.\n",
      "  warnings.warn('The predicted simcc values are normalized for '\n"
     ]
    }
   ],
   "source": [
    "# RTMDet --> RTMPose\n",
    "# !python demo/topdown_demo_with_mmdet.py \\\n",
    "#         data/rtmdet_tiny_triangle.py \\\n",
    "#         checkpoint/rtmdet_tiny_triangle_epoch_200_202305120847-3cd02a8f.pth \\\n",
    "#         data/rtmpose-s-triangle.py \\\n",
    "#         checkpoint/rtmpose-s-triangle-300-32642023_20230524.pth \\\n",
    "#         --input data/test_triangle/triangle_9.mp4 \\\n",
    "#         --output-root outputs/G2_Video \\\n",
    "#         --device cuda:0 \\\n",
    "#         --bbox-thr 0.5 \\\n",
    "#         --kpt-thr 0.5 \\\n",
    "#         --nms-thr 0.3 \\\n",
    "#         --radius 16 \\\n",
    "#         --thickness 10 \\\n",
    "#         --draw-bbox \\\n",
    "#         --draw-heatmap \\\n",
    "#         --show-kpt-idx\n",
    "\n",
    "\n",
    "\n",
    "# RTMDet --> RTMPose\n",
    "\n",
    "!python demo/topdown_demo_with_mmdet.py \\\n",
    "        data/rtmdet_tiny_Ear2.py \\\n",
    "        ../mmdetection/work_dirs/rtmdet_tiny_Ear/best_coco_bbox_mAP_epoch_196_zip-dc2ee3bc.pth \\\n",
    "        data/rtmpose-s-Ear.py \\\n",
    "        work_dirs/rtmpose-s-Ear/best_PCK_epoch_255_zip-d1bf22ba.pth \\\n",
    "        --input ../MyEar/Ear.mp4 \\\n",
    "        --output-root ../MyEar/RTMDet-RTMPose \\\n",
    "        --device cuda:0 \\\n",
    "        --bbox-thr 0.2 \\\n",
    "        --kpt-thr 0.3 \\\n",
    "        --nms-thr 0.2 \\\n",
    "        --radius 13 \\\n",
    "        --thickness 13 \\\n",
    "        --draw-bbox \\\n",
    "        --draw-heatmap \\\n",
    "        --show-kpt-idx\n",
    "\n",
    "!python demo/topdown_demo_with_mmdet.py \\\n",
    "        data/rtmdet_tiny_Ear2.py \\\n",
    "        ../mmdetection/work_dirs/rtmdet_tiny_Ear/best_coco_bbox_mAP_epoch_196_zip-dc2ee3bc.pth \\\n",
    "        data/rtmpose-s-Ear.py \\\n",
    "        work_dirs/rtmpose-s-Ear/best_PCK_epoch_255_zip-d1bf22ba.pth \\\n",
    "        --input ../MyEar/Ear2.mp4 \\\n",
    "        --output-root ../MyEar/RTMDet-RTMPose \\\n",
    "        --device cuda:0 \\\n",
    "        --bbox-thr 0.2 \\\n",
    "        --kpt-thr 0.3 \\\n",
    "        --nms-thr 0.2 \\\n",
    "        --radius 13 \\\n",
    "        --thickness 13 \\\n",
    "        --draw-bbox \\\n",
    "        --draw-heatmap \\\n",
    "        --show-kpt-idx"
   ]
  },
  {
   "cell_type": "code",
   "execution_count": null,
   "id": "8fc5a328-476a-488c-8ade-3f6d5dc2ea87",
   "metadata": {},
   "outputs": [],
   "source": [
    "# Traceback (most recent call last):\n",
    "#   File \"demo/topdown_demo_with_mmdet.py\", line 292, in <module>\n",
    "#     main()\n",
    "#   File \"demo/topdown_demo_with_mmdet.py\", line 265, in main\n",
    "#     if cv2.waitKey(5) & 0xFF == 27:\n",
    "# cv2.error: OpenCV(4.7.0) /io/opencv/modules/highgui/src/window.cpp:1338: \n",
    "# error: (-2:Unspecified error) The function is not implemented. \n",
    "# Rebuild the library with Windows, GTK+ 2.x or Cocoa support. \n",
    "# If you are on Ubuntu or Debian, install libgtk2.0-dev and pkg-config, \n",
    "#     then re-run cmake or configure script in function 'cvWaitKey'"
   ]
  },
  {
   "cell_type": "markdown",
   "id": "f13bda30-be0a-491f-bfed-0fefcfa2cf6a",
   "metadata": {},
   "source": [
    "##### 为了解决这个报错，需要注释掉`mmpose/demo/topdown_demo_with_mmdet.py`的264-266行"
   ]
  },
  {
   "cell_type": "code",
   "execution_count": 7,
   "id": "6271fd6c-0fb8-422a-a94d-e5ee765382bf",
   "metadata": {},
   "outputs": [],
   "source": [
    "            # # press ESC to exit\n",
    "            # if cv2.waitKey(5) & 0xFF == 27:\n",
    "            #     break"
   ]
  },
  {
   "cell_type": "markdown",
   "id": "efeb4973-3558-45c4-98f6-3486ab1e003f",
   "metadata": {},
   "source": [
    "## 摄像头实时画面-关键点检测预测\n",
    "\n",
    "见本地运行的代码教程，需在本地调用摄像头运行，不能在云GPU平台运行"
   ]
  },
  {
   "cell_type": "code",
   "execution_count": null,
   "id": "b57c3d86-42a8-4891-918d-ba2556aebe06",
   "metadata": {},
   "outputs": [],
   "source": []
  }
 ],
 "metadata": {
  "kernelspec": {
   "display_name": "Python 3",
   "language": "python",
   "name": "python3"
  },
  "language_info": {
   "codemirror_mode": {
    "name": "ipython",
    "version": 3
   },
   "file_extension": ".py",
   "mimetype": "text/x-python",
   "name": "python",
   "nbconvert_exporter": "python",
   "pygments_lexer": "ipython3",
   "version": "3.8.16"
  }
 },
 "nbformat": 4,
 "nbformat_minor": 5
}
