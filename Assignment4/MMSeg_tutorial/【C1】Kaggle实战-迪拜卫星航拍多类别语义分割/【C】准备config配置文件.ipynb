{
 "cells": [
  {
   "cell_type": "markdown",
   "metadata": {},
   "source": [
    "# 准备config配置文件\n",
    "\n",
    "同济子豪兄 2023-2-13 6-11"
   ]
  },
  {
   "cell_type": "markdown",
   "metadata": {
    "tags": []
   },
   "source": [
    "## 进入MMSegmentation主目录"
   ]
  },
  {
   "cell_type": "code",
   "execution_count": 1,
   "metadata": {},
   "outputs": [],
   "source": [
    "import os\n",
    "os.chdir('../../mmsegmentation')"
   ]
  },
  {
   "cell_type": "code",
   "execution_count": 2,
   "metadata": {},
   "outputs": [
    {
     "data": {
      "text/plain": [
       "'/home/cine/Documents/GitHub/mmsegmentation'"
      ]
     },
     "execution_count": 2,
     "metadata": {},
     "output_type": "execute_result"
    }
   ],
   "source": [
    "os.getcwd()"
   ]
  },
  {
   "cell_type": "markdown",
   "metadata": {},
   "source": [
    "## 导入工具包"
   ]
  },
  {
   "cell_type": "code",
   "execution_count": 3,
   "metadata": {
    "colab": {
     "base_uri": "https://localhost:8080/"
    },
    "id": "mAE_h7XhPT7d",
    "outputId": "83bf0f8e-fc69-40b1-f9fe-0025724a217c"
   },
   "outputs": [],
   "source": [
    "import numpy as np\n",
    "from PIL import Image\n",
    "\n",
    "import os.path as osp\n",
    "from tqdm import tqdm\n",
    "\n",
    "import mmcv\n",
    "import mmengine\n",
    "import matplotlib.pyplot as plt\n",
    "%matplotlib inline"
   ]
  },
  {
   "cell_type": "markdown",
   "metadata": {},
   "source": [
    "## 定义数据集类（各类别名称及配色）"
   ]
  },
  {
   "cell_type": "code",
   "execution_count": 4,
   "metadata": {},
   "outputs": [
    {
     "name": "stdout",
     "output_type": "stream",
     "text": [
      "--2023-06-14 22:21:30--  https://zihao-openmmlab.obs.cn-east-3.myhuaweicloud.com/20230130-mmseg/Dubai/DubaiDataset.py\n",
      "正在解析主机 zihao-openmmlab.obs.cn-east-3.myhuaweicloud.com (zihao-openmmlab.obs.cn-east-3.myhuaweicloud.com)... 121.36.235.132\n",
      "正在连接 zihao-openmmlab.obs.cn-east-3.myhuaweicloud.com (zihao-openmmlab.obs.cn-east-3.myhuaweicloud.com)|121.36.235.132|:443... 已连接。\n",
      "已发出 HTTP 请求，正在等待回应... 200 OK\n",
      "长度： 867 [binary/octet-stream]\n",
      "正在保存至: ‘mmseg/datasets/DubaiDataset.py’\n",
      "\n",
      "DubaiDataset.py     100%[===================>]     867  --.-KB/s    用时 0.001s  \n",
      "\n",
      "2023-06-14 22:21:31 (1.09 MB/s) - 已保存 ‘mmseg/datasets/DubaiDataset.py’ [867/867])\n",
      "\n"
     ]
    }
   ],
   "source": [
    "!rm -rf mmseg/datasets/DubaiDataset.py # 删除原有文件\n",
    "!wget https://zihao-openmmlab.obs.cn-east-3.myhuaweicloud.com/20230130-mmseg/Dubai/DubaiDataset.py -P mmseg/datasets\n"
   ]
  },
  {
   "cell_type": "markdown",
   "metadata": {},
   "source": [
    "## 注册数据集类"
   ]
  },
  {
   "cell_type": "code",
   "execution_count": 5,
   "metadata": {},
   "outputs": [
    {
     "name": "stdout",
     "output_type": "stream",
     "text": [
      "--2023-06-14 22:21:40--  https://zihao-openmmlab.obs.cn-east-3.myhuaweicloud.com/20230130-mmseg/Dubai/__init__.py\n",
      "正在解析主机 zihao-openmmlab.obs.cn-east-3.myhuaweicloud.com (zihao-openmmlab.obs.cn-east-3.myhuaweicloud.com)... 121.36.235.132\n",
      "正在连接 zihao-openmmlab.obs.cn-east-3.myhuaweicloud.com (zihao-openmmlab.obs.cn-east-3.myhuaweicloud.com)|121.36.235.132|:443... 已连接。\n",
      "已发出 HTTP 请求，正在等待回应... 200 OK\n",
      "长度： 2620 (2.6K) [binary/octet-stream]\n",
      "正在保存至: ‘mmseg/datasets/__init__.py’\n",
      "\n",
      "__init__.py         100%[===================>]   2.56K  --.-KB/s    用时 0.001s  \n",
      "\n",
      "2023-06-14 22:21:41 (2.23 MB/s) - 已保存 ‘mmseg/datasets/__init__.py’ [2620/2620])\n",
      "\n"
     ]
    }
   ],
   "source": [
    "!rm -rf mmseg/datasets/__init__.py # 删除原有文件\n",
    "!wget https://zihao-openmmlab.obs.cn-east-3.myhuaweicloud.com/20230130-mmseg/Dubai/__init__.py -P mmseg/datasets\n"
   ]
  },
  {
   "cell_type": "markdown",
   "metadata": {},
   "source": [
    "## 定义训练及测试pipeline"
   ]
  },
  {
   "cell_type": "code",
   "execution_count": 6,
   "metadata": {},
   "outputs": [
    {
     "name": "stdout",
     "output_type": "stream",
     "text": [
      "--2023-06-14 22:21:45--  https://zihao-openmmlab.obs.cn-east-3.myhuaweicloud.com/20230130-mmseg/Dubai/DubaiDataset_pipeline.py\n",
      "正在解析主机 zihao-openmmlab.obs.cn-east-3.myhuaweicloud.com (zihao-openmmlab.obs.cn-east-3.myhuaweicloud.com)... 121.36.235.132\n",
      "正在连接 zihao-openmmlab.obs.cn-east-3.myhuaweicloud.com (zihao-openmmlab.obs.cn-east-3.myhuaweicloud.com)|121.36.235.132|:443... 已连接。\n",
      "已发出 HTTP 请求，正在等待回应... 200 OK\n",
      "长度： 2268 (2.2K) [binary/octet-stream]\n",
      "正在保存至: ‘configs/_base_/datasets/DubaiDataset_pipeline.py’\n",
      "\n",
      "DubaiDataset_pipeli 100%[===================>]   2.21K  --.-KB/s    用时 0.001s  \n",
      "\n",
      "2023-06-14 22:21:45 (3.99 MB/s) - 已保存 ‘configs/_base_/datasets/DubaiDataset_pipeline.py’ [2268/2268])\n",
      "\n"
     ]
    }
   ],
   "source": [
    "!rm -rf configs/_base_/datasets/DubaiDataset_pipeline.py\n",
    "!wget https://zihao-openmmlab.obs.cn-east-3.myhuaweicloud.com/20230130-mmseg/Dubai/DubaiDataset_pipeline.py -P configs/_base_/datasets\n"
   ]
  },
  {
   "cell_type": "markdown",
   "metadata": {
    "id": "yUVtmn3Iq3WA"
   },
   "source": [
    "## 下载模型config配置文件"
   ]
  },
  {
   "cell_type": "code",
   "execution_count": 7,
   "metadata": {},
   "outputs": [
    {
     "name": "stdout",
     "output_type": "stream",
     "text": [
      "--2023-06-14 22:21:56--  https://zihao-openmmlab.obs.cn-east-3.myhuaweicloud.com/20230130-mmseg/Dubai/pspnet_r50-d8_4xb2-40k_DubaiDataset.py\n",
      "正在解析主机 zihao-openmmlab.obs.cn-east-3.myhuaweicloud.com (zihao-openmmlab.obs.cn-east-3.myhuaweicloud.com)... 121.36.235.132\n",
      "正在连接 zihao-openmmlab.obs.cn-east-3.myhuaweicloud.com (zihao-openmmlab.obs.cn-east-3.myhuaweicloud.com)|121.36.235.132|:443... 已连接。\n",
      "已发出 HTTP 请求，正在等待回应... 200 OK\n",
      "长度： 344 [binary/octet-stream]\n",
      "正在保存至: ‘configs/pspnet/pspnet_r50-d8_4xb2-40k_DubaiDataset.py’\n",
      "\n",
      "pspnet_r50-d8_4xb2- 100%[===================>]     344  --.-KB/s    用时 0s      \n",
      "\n",
      "2023-06-14 22:21:56 (1.91 MB/s) - 已保存 ‘configs/pspnet/pspnet_r50-d8_4xb2-40k_DubaiDataset.py’ [344/344])\n",
      "\n"
     ]
    }
   ],
   "source": [
    "!rm -rf configs/pspnet/pspnet_r50-d8_4xb2-40k_DubaiDataset.py # 删除原有文件\n",
    "!wget https://zihao-openmmlab.obs.cn-east-3.myhuaweicloud.com/20230130-mmseg/Dubai/pspnet_r50-d8_4xb2-40k_DubaiDataset.py -P configs/pspnet \n"
   ]
  },
  {
   "cell_type": "markdown",
   "metadata": {},
   "source": [
    "## 载入config配置文件"
   ]
  },
  {
   "cell_type": "code",
   "execution_count": 8,
   "metadata": {
    "id": "Wwnj9tRzqX_A"
   },
   "outputs": [],
   "source": [
    "from mmengine import Config\n",
    "cfg = Config.fromfile('./configs/pspnet/pspnet_r50-d8_4xb2-40k_DubaiDataset.py')"
   ]
  },
  {
   "cell_type": "markdown",
   "metadata": {},
   "source": [
    "## 修改config配置文件"
   ]
  },
  {
   "cell_type": "code",
   "execution_count": 9,
   "metadata": {
    "colab": {
     "base_uri": "https://localhost:8080/"
    },
    "id": "eyKnYC1Z7iCV",
    "outputId": "6195217b-187f-4675-994b-ba90d8bb3078"
   },
   "outputs": [],
   "source": [
    "cfg.norm_cfg = dict(type='BN', requires_grad=True) # 只使用GPU时，BN取代SyncBN\n",
    "cfg.crop_size = (256, 256)\n",
    "cfg.model.data_preprocessor.size = cfg.crop_size\n",
    "cfg.model.backbone.norm_cfg = cfg.norm_cfg\n",
    "cfg.model.decode_head.norm_cfg = cfg.norm_cfg\n",
    "cfg.model.auxiliary_head.norm_cfg = cfg.norm_cfg\n",
    "# modify num classes of the model in decode/auxiliary head\n",
    "\n",
    "# 模型 decode/auxiliary 输出头，指定为类别个数\n",
    "cfg.model.decode_head.num_classes = 6\n",
    "cfg.model.auxiliary_head.num_classes = 6\n",
    "\n",
    "cfg.train_dataloader.batch_size = 8\n",
    "\n",
    "cfg.test_dataloader = cfg.val_dataloader\n",
    "\n",
    "# 结果保存目录\n",
    "cfg.work_dir = './work_dirs/DubaiDataset'\n",
    "\n",
    "# 训练迭代次数\n",
    "cfg.train_cfg.max_iters = 3000\n",
    "# 评估模型间隔\n",
    "cfg.train_cfg.val_interval = 400\n",
    "# 日志记录间隔\n",
    "cfg.default_hooks.logger.interval = 100\n",
    "# 模型权重保存间隔\n",
    "cfg.default_hooks.checkpoint.interval = 1500\n",
    "\n",
    "# 随机数种子\n",
    "cfg['randomness'] = dict(seed=0)"
   ]
  },
  {
   "cell_type": "markdown",
   "metadata": {},
   "source": [
    "## 查看完整config配置文件"
   ]
  },
  {
   "cell_type": "code",
   "execution_count": 10,
   "metadata": {
    "scrolled": true
   },
   "outputs": [
    {
     "name": "stdout",
     "output_type": "stream",
     "text": [
      "norm_cfg = dict(type='BN', requires_grad=True)\n",
      "data_preprocessor = dict(\n",
      "    type='SegDataPreProcessor',\n",
      "    mean=[123.675, 116.28, 103.53],\n",
      "    std=[58.395, 57.12, 57.375],\n",
      "    bgr_to_rgb=True,\n",
      "    pad_val=0,\n",
      "    seg_pad_val=255,\n",
      "    size=(64, 64))\n",
      "model = dict(\n",
      "    type='EncoderDecoder',\n",
      "    data_preprocessor=dict(\n",
      "        type='SegDataPreProcessor',\n",
      "        mean=[123.675, 116.28, 103.53],\n",
      "        std=[58.395, 57.12, 57.375],\n",
      "        bgr_to_rgb=True,\n",
      "        pad_val=0,\n",
      "        seg_pad_val=255,\n",
      "        size=(256, 256)),\n",
      "    pretrained='open-mmlab://resnet50_v1c',\n",
      "    backbone=dict(\n",
      "        type='ResNetV1c',\n",
      "        depth=50,\n",
      "        num_stages=4,\n",
      "        out_indices=(0, 1, 2, 3),\n",
      "        dilations=(1, 1, 2, 4),\n",
      "        strides=(1, 2, 1, 1),\n",
      "        norm_cfg=dict(type='BN', requires_grad=True),\n",
      "        norm_eval=False,\n",
      "        style='pytorch',\n",
      "        contract_dilation=True),\n",
      "    decode_head=dict(\n",
      "        type='PSPHead',\n",
      "        in_channels=2048,\n",
      "        in_index=3,\n",
      "        channels=512,\n",
      "        pool_scales=(1, 2, 3, 6),\n",
      "        dropout_ratio=0.1,\n",
      "        num_classes=6,\n",
      "        norm_cfg=dict(type='BN', requires_grad=True),\n",
      "        align_corners=False,\n",
      "        loss_decode=dict(\n",
      "            type='CrossEntropyLoss', use_sigmoid=False, loss_weight=1.0)),\n",
      "    auxiliary_head=dict(\n",
      "        type='FCNHead',\n",
      "        in_channels=1024,\n",
      "        in_index=2,\n",
      "        channels=256,\n",
      "        num_convs=1,\n",
      "        concat_input=False,\n",
      "        dropout_ratio=0.1,\n",
      "        num_classes=6,\n",
      "        norm_cfg=dict(type='BN', requires_grad=True),\n",
      "        align_corners=False,\n",
      "        loss_decode=dict(\n",
      "            type='CrossEntropyLoss', use_sigmoid=False, loss_weight=0.4)),\n",
      "    train_cfg=dict(),\n",
      "    test_cfg=dict(mode='whole'))\n",
      "dataset_type = 'DubaiDataset'\n",
      "data_root = 'Dubai-dataset/'\n",
      "crop_size = (256, 256)\n",
      "train_pipeline = [\n",
      "    dict(type='LoadImageFromFile'),\n",
      "    dict(type='LoadAnnotations'),\n",
      "    dict(\n",
      "        type='RandomResize',\n",
      "        scale=(2048, 1024),\n",
      "        ratio_range=(0.5, 2.0),\n",
      "        keep_ratio=True),\n",
      "    dict(type='RandomCrop', crop_size=(64, 64), cat_max_ratio=0.75),\n",
      "    dict(type='RandomFlip', prob=0.5),\n",
      "    dict(type='PhotoMetricDistortion'),\n",
      "    dict(type='PackSegInputs')\n",
      "]\n",
      "test_pipeline = [\n",
      "    dict(type='LoadImageFromFile'),\n",
      "    dict(type='Resize', scale=(2048, 1024), keep_ratio=True),\n",
      "    dict(type='LoadAnnotations'),\n",
      "    dict(type='PackSegInputs')\n",
      "]\n",
      "img_ratios = [0.5, 0.75, 1.0, 1.25, 1.5, 1.75]\n",
      "tta_pipeline = [\n",
      "    dict(type='LoadImageFromFile', file_client_args=dict(backend='disk')),\n",
      "    dict(\n",
      "        type='TestTimeAug',\n",
      "        transforms=[[{\n",
      "            'type': 'Resize',\n",
      "            'scale_factor': 0.5,\n",
      "            'keep_ratio': True\n",
      "        }, {\n",
      "            'type': 'Resize',\n",
      "            'scale_factor': 0.75,\n",
      "            'keep_ratio': True\n",
      "        }, {\n",
      "            'type': 'Resize',\n",
      "            'scale_factor': 1.0,\n",
      "            'keep_ratio': True\n",
      "        }, {\n",
      "            'type': 'Resize',\n",
      "            'scale_factor': 1.25,\n",
      "            'keep_ratio': True\n",
      "        }, {\n",
      "            'type': 'Resize',\n",
      "            'scale_factor': 1.5,\n",
      "            'keep_ratio': True\n",
      "        }, {\n",
      "            'type': 'Resize',\n",
      "            'scale_factor': 1.75,\n",
      "            'keep_ratio': True\n",
      "        }],\n",
      "                    [{\n",
      "                        'type': 'RandomFlip',\n",
      "                        'prob': 0.0,\n",
      "                        'direction': 'horizontal'\n",
      "                    }, {\n",
      "                        'type': 'RandomFlip',\n",
      "                        'prob': 1.0,\n",
      "                        'direction': 'horizontal'\n",
      "                    }], [{\n",
      "                        'type': 'LoadAnnotations'\n",
      "                    }], [{\n",
      "                        'type': 'PackSegInputs'\n",
      "                    }]])\n",
      "]\n",
      "train_dataloader = dict(\n",
      "    batch_size=8,\n",
      "    num_workers=2,\n",
      "    persistent_workers=True,\n",
      "    sampler=dict(type='InfiniteSampler', shuffle=True),\n",
      "    dataset=dict(\n",
      "        type='DubaiDataset',\n",
      "        data_root='Dubai-dataset/',\n",
      "        data_prefix=dict(\n",
      "            img_path='img_dir/train', seg_map_path='ann_dir/train'),\n",
      "        pipeline=[\n",
      "            dict(type='LoadImageFromFile'),\n",
      "            dict(type='LoadAnnotations'),\n",
      "            dict(\n",
      "                type='RandomResize',\n",
      "                scale=(2048, 1024),\n",
      "                ratio_range=(0.5, 2.0),\n",
      "                keep_ratio=True),\n",
      "            dict(type='RandomCrop', crop_size=(64, 64), cat_max_ratio=0.75),\n",
      "            dict(type='RandomFlip', prob=0.5),\n",
      "            dict(type='PhotoMetricDistortion'),\n",
      "            dict(type='PackSegInputs')\n",
      "        ]))\n",
      "val_dataloader = dict(\n",
      "    batch_size=1,\n",
      "    num_workers=4,\n",
      "    persistent_workers=True,\n",
      "    sampler=dict(type='DefaultSampler', shuffle=False),\n",
      "    dataset=dict(\n",
      "        type='DubaiDataset',\n",
      "        data_root='Dubai-dataset/',\n",
      "        data_prefix=dict(img_path='img_dir/val', seg_map_path='ann_dir/val'),\n",
      "        pipeline=[\n",
      "            dict(type='LoadImageFromFile'),\n",
      "            dict(type='Resize', scale=(2048, 1024), keep_ratio=True),\n",
      "            dict(type='LoadAnnotations'),\n",
      "            dict(type='PackSegInputs')\n",
      "        ]))\n",
      "test_dataloader = dict(\n",
      "    batch_size=1,\n",
      "    num_workers=4,\n",
      "    persistent_workers=True,\n",
      "    sampler=dict(type='DefaultSampler', shuffle=False),\n",
      "    dataset=dict(\n",
      "        type='DubaiDataset',\n",
      "        data_root='Dubai-dataset/',\n",
      "        data_prefix=dict(img_path='img_dir/val', seg_map_path='ann_dir/val'),\n",
      "        pipeline=[\n",
      "            dict(type='LoadImageFromFile'),\n",
      "            dict(type='Resize', scale=(2048, 1024), keep_ratio=True),\n",
      "            dict(type='LoadAnnotations'),\n",
      "            dict(type='PackSegInputs')\n",
      "        ]))\n",
      "val_evaluator = dict(type='IoUMetric', iou_metrics=['mIoU'])\n",
      "test_evaluator = dict(type='IoUMetric', iou_metrics=['mIoU'])\n",
      "default_scope = 'mmseg'\n",
      "env_cfg = dict(\n",
      "    cudnn_benchmark=True,\n",
      "    mp_cfg=dict(mp_start_method='fork', opencv_num_threads=0),\n",
      "    dist_cfg=dict(backend='nccl'))\n",
      "vis_backends = [dict(type='LocalVisBackend')]\n",
      "visualizer = dict(\n",
      "    type='SegLocalVisualizer',\n",
      "    vis_backends=[dict(type='LocalVisBackend')],\n",
      "    name='visualizer')\n",
      "log_processor = dict(by_epoch=False)\n",
      "log_level = 'INFO'\n",
      "load_from = None\n",
      "resume = False\n",
      "tta_model = dict(type='SegTTAModel')\n",
      "optimizer = dict(type='SGD', lr=0.01, momentum=0.9, weight_decay=0.0005)\n",
      "optim_wrapper = dict(\n",
      "    type='OptimWrapper',\n",
      "    optimizer=dict(type='SGD', lr=0.01, momentum=0.9, weight_decay=0.0005),\n",
      "    clip_grad=None)\n",
      "param_scheduler = [\n",
      "    dict(\n",
      "        type='PolyLR',\n",
      "        eta_min=0.0001,\n",
      "        power=0.9,\n",
      "        begin=0,\n",
      "        end=40000,\n",
      "        by_epoch=False)\n",
      "]\n",
      "train_cfg = dict(type='IterBasedTrainLoop', max_iters=3000, val_interval=400)\n",
      "val_cfg = dict(type='ValLoop')\n",
      "test_cfg = dict(type='TestLoop')\n",
      "default_hooks = dict(\n",
      "    timer=dict(type='IterTimerHook'),\n",
      "    logger=dict(type='LoggerHook', interval=100, log_metric_by_epoch=False),\n",
      "    param_scheduler=dict(type='ParamSchedulerHook'),\n",
      "    checkpoint=dict(type='CheckpointHook', by_epoch=False, interval=1500),\n",
      "    sampler_seed=dict(type='DistSamplerSeedHook'),\n",
      "    visualization=dict(type='SegVisualizationHook'))\n",
      "work_dir = './work_dirs/DubaiDataset'\n",
      "randomness = dict(seed=0)\n",
      "\n"
     ]
    }
   ],
   "source": [
    "print(cfg.pretty_text)"
   ]
  },
  {
   "cell_type": "markdown",
   "metadata": {},
   "source": [
    "## 保存config配置文件"
   ]
  },
  {
   "cell_type": "code",
   "execution_count": 11,
   "metadata": {},
   "outputs": [],
   "source": [
    "cfg.dump('pspnet-DubaiDataset_20230612.py')"
   ]
  },
  {
   "cell_type": "code",
   "execution_count": null,
   "metadata": {},
   "outputs": [],
   "source": []
  }
 ],
 "metadata": {
  "accelerator": "GPU",
  "colab": {
   "collapsed_sections": [],
   "include_colab_link": true,
   "name": "MMSegmentation Tutorial.ipynb",
   "provenance": []
  },
  "kernelspec": {
   "display_name": "Python 3",
   "language": "python",
   "name": "python3"
  },
  "language_info": {
   "codemirror_mode": {
    "name": "ipython",
    "version": 3
   },
   "file_extension": ".py",
   "mimetype": "text/x-python",
   "name": "python",
   "nbconvert_exporter": "python",
   "pygments_lexer": "ipython3",
   "version": "3.8.16"
  },
  "pycharm": {
   "stem_cell": {
    "cell_type": "raw",
    "metadata": {
     "collapsed": false
    },
    "source": []
   }
  },
  "vscode": {
   "interpreter": {
    "hash": "20d4b83e0c8b3730b580c42434163d64f4b735d580303a8fade7c849d4d29eba"
   }
  }
 },
 "nbformat": 4,
 "nbformat_minor": 4
}
