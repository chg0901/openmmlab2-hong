{
 "cells": [
  {
   "cell_type": "markdown",
   "id": "c669bd26-b5b8-40ad-b087-ef8324985c6f",
   "metadata": {},
   "source": [
    "# 下载整理好的数据集\n",
    "\n",
    "同济子豪兄 2023-2-13 6-11\n",
    "\n",
    "Kaggle原版数据集：https://www.kaggle.com/datasets/humansintheloop/semantic-segmentation-of-aerial-imagery"
   ]
  },
  {
   "cell_type": "markdown",
   "id": "c1229f75-1171-4719-b0ba-fb7a6f66708e",
   "metadata": {},
   "source": [
    "## 进入MMSegmentation主目录"
   ]
  },
  {
   "cell_type": "code",
   "execution_count": 1,
   "id": "3bbc07c1-0207-4f2a-a99e-e1452dee5d01",
   "metadata": {},
   "outputs": [],
   "source": [
    "import os\n",
    "os.chdir('../mmsegmentation')"
   ]
  },
  {
   "cell_type": "code",
   "execution_count": 2,
   "id": "d62a9d6c-a6b6-4314-9505-c7f2d3fc9a55",
   "metadata": {},
   "outputs": [
    {
     "data": {
      "text/plain": [
       "'/home/featurize/work/两天搞定语义分割毕业设计/mmsegmentation'"
      ]
     },
     "execution_count": 2,
     "metadata": {},
     "output_type": "execute_result"
    }
   ],
   "source": [
    "os.getcwd()"
   ]
  },
  {
   "cell_type": "markdown",
   "id": "d74686a7-e394-4316-8f96-af07554966aa",
   "metadata": {},
   "source": [
    "## 下载整理好之后的数据集"
   ]
  },
  {
   "cell_type": "code",
   "execution_count": 14,
   "id": "43fa462e-fde0-4355-af26-38c66acdf3ed",
   "metadata": {},
   "outputs": [
    {
     "name": "stdout",
     "output_type": "stream",
     "text": [
      "--2023-06-12 10:04:05--  https://zihao-openmmlab.obs.cn-east-3.myhuaweicloud.com/20230130-mmseg/dataset/Dubai-dataset.zip\n",
      "正在连接 172.16.0.13:5848... 已连接。\n",
      "已发出 Proxy 请求，正在等待回应... 200 OK\n",
      "长度： 29822458 (28M) [application/zip]\n",
      "正在保存至: “Dubai-dataset.zip”\n",
      "\n",
      "Dubai-dataset.zip   100%[===================>]  28.44M  32.7MB/s    用时 0.9s    \n",
      "\n",
      "2023-06-12 10:04:06 (32.7 MB/s) - 已保存 “Dubai-dataset.zip” [29822458/29822458])\n",
      "\n"
     ]
    }
   ],
   "source": [
    "!rm -rf Dubai-dataset.zip Dubai-dataset\n",
    "\n",
    "!wget https://zihao-openmmlab.obs.cn-east-3.myhuaweicloud.com/20230130-mmseg/dataset/Dubai-dataset.zip\n",
    "\n",
    "!unzip Dubai-dataset.zip >> /dev/null # 解压\n",
    "\n",
    "!rm -rf Dubai-dataset.zip # 删除压缩包"
   ]
  },
  {
   "cell_type": "markdown",
   "id": "091f4492-a74e-412d-b404-1001a5fc7841",
   "metadata": {},
   "source": [
    "在`mmsegmentation`主目录中，出现文件夹`Dubai-dataset`"
   ]
  },
  {
   "cell_type": "markdown",
   "id": "be6d3b1c-f4f7-46ac-9945-02635594f7d8",
   "metadata": {},
   "source": [
    "## 删除系统自动生成的多余文件"
   ]
  },
  {
   "cell_type": "markdown",
   "id": "356428f7-db87-4fc9-9873-e1cf1b5088db",
   "metadata": {},
   "source": [
    "### 查看待删除的多余文件"
   ]
  },
  {
   "cell_type": "code",
   "execution_count": 15,
   "id": "e3d19ea4-f543-4bdd-acc4-994555857928",
   "metadata": {},
   "outputs": [],
   "source": [
    "!find . -iname '__MACOSX'"
   ]
  },
  {
   "cell_type": "code",
   "execution_count": 16,
   "id": "e11b9512-584e-460a-a9aa-4f39a2c4e0ba",
   "metadata": {},
   "outputs": [],
   "source": [
    "!find . -iname '.DS_Store'"
   ]
  },
  {
   "cell_type": "code",
   "execution_count": 17,
   "id": "7b85e491-0497-49ff-84b6-1991b096c42d",
   "metadata": {},
   "outputs": [
    {
     "name": "stdout",
     "output_type": "stream",
     "text": [
      "./.ipynb_checkpoints\n"
     ]
    }
   ],
   "source": [
    "!find . -iname '.ipynb_checkpoints'"
   ]
  },
  {
   "cell_type": "markdown",
   "id": "8a9de3ce-9237-4db7-a667-2847663a3161",
   "metadata": {},
   "source": [
    "### 删除多余文件"
   ]
  },
  {
   "cell_type": "code",
   "execution_count": 18,
   "id": "5240771b-5535-4150-90be-c002bd7b8baa",
   "metadata": {},
   "outputs": [],
   "source": [
    "!for i in `find . -iname '__MACOSX'`; do rm -rf $i;done"
   ]
  },
  {
   "cell_type": "code",
   "execution_count": 19,
   "id": "699b2af5-63a1-41fc-adb3-488e3f4bf01e",
   "metadata": {},
   "outputs": [],
   "source": [
    "!for i in `find . -iname '.DS_Store'`; do rm -rf $i;done"
   ]
  },
  {
   "cell_type": "code",
   "execution_count": 20,
   "id": "7e530f61-072a-4d16-a4bf-c8ab99cdeeb1",
   "metadata": {},
   "outputs": [],
   "source": [
    "!for i in `find . -iname '.ipynb_checkpoints'`; do rm -rf $i;done"
   ]
  },
  {
   "cell_type": "markdown",
   "id": "f5f67d64-acb3-48fb-ad42-9a30c8aab536",
   "metadata": {},
   "source": [
    "### 验证多余文件已删除"
   ]
  },
  {
   "cell_type": "code",
   "execution_count": 21,
   "id": "2f9228d1-8426-4b48-8b6a-84096b26b095",
   "metadata": {},
   "outputs": [],
   "source": [
    "!find . -iname '__MACOSX'"
   ]
  },
  {
   "cell_type": "code",
   "execution_count": 22,
   "id": "ac3dbe7d-c347-4d67-8074-da4915507526",
   "metadata": {},
   "outputs": [],
   "source": [
    "!find . -iname '.DS_Store'"
   ]
  },
  {
   "cell_type": "code",
   "execution_count": 23,
   "id": "500ec0a3-6399-4d18-b53c-9ea4248635da",
   "metadata": {},
   "outputs": [],
   "source": [
    "!find . -iname '.ipynb_checkpoints'"
   ]
  },
  {
   "cell_type": "code",
   "execution_count": null,
   "id": "a192ad11-7519-47ee-aeed-4183f1ffecd3",
   "metadata": {},
   "outputs": [],
   "source": []
  }
 ],
 "metadata": {
  "kernelspec": {
   "display_name": "Python 3 (ipykernel)",
   "language": "python",
   "name": "python3"
  },
  "language_info": {
   "codemirror_mode": {
    "name": "ipython",
    "version": 3
   },
   "file_extension": ".py",
   "mimetype": "text/x-python",
   "name": "python",
   "nbconvert_exporter": "python",
   "pygments_lexer": "ipython3",
   "version": "3.7.10"
  }
 },
 "nbformat": 4,
 "nbformat_minor": 5
}
