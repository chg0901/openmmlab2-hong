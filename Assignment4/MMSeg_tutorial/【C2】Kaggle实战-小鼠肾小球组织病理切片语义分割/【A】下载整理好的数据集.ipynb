{
 "cells": [
  {
   "cell_type": "markdown",
   "id": "c99d266f-77c4-431d-bf1e-7bbebe4e2776",
   "metadata": {},
   "source": [
    "# 下载整理好的数据集\n",
    "\n",
    "同济子豪兄 2023-1-31 6-12"
   ]
  },
  {
   "cell_type": "markdown",
   "id": "07603b47-1ff2-469a-9b15-7d9ec603db48",
   "metadata": {},
   "source": [
    "## 下载数据集"
   ]
  },
  {
   "cell_type": "code",
   "execution_count": null,
   "id": "c7e71e1c-5cd2-47ba-9417-c579efbc58dc",
   "metadata": {},
   "outputs": [],
   "source": []
  },
  {
   "cell_type": "code",
   "execution_count": 1,
   "id": "da579789-c8d8-4381-a9e5-c0785b75ceaa",
   "metadata": {},
   "outputs": [
    {
     "name": "stdout",
     "output_type": "stream",
     "text": [
      "/home/cine/Documents/GitHub/MMSeg_tutorial/【C2】Kaggle实战-小鼠肾小球组织病理切片语义分割\n"
     ]
    }
   ],
   "source": [
    "!pwd"
   ]
  },
  {
   "cell_type": "code",
   "execution_count": 2,
   "id": "666c44cf-a2b5-4a40-9867-7b6b84b55471",
   "metadata": {},
   "outputs": [],
   "source": [
    "import os\n",
    "os.chdir('../../mmsegmentation')"
   ]
  },
  {
   "cell_type": "code",
   "execution_count": 3,
   "id": "eb8e52e0-fd9b-4875-9c90-adce48ef113e",
   "metadata": {},
   "outputs": [
    {
     "data": {
      "text/plain": [
       "'/home/cine/Documents/GitHub/mmsegmentation'"
      ]
     },
     "execution_count": 3,
     "metadata": {},
     "output_type": "execute_result"
    }
   ],
   "source": [
    "os.getcwd()"
   ]
  },
  {
   "cell_type": "code",
   "execution_count": 4,
   "id": "81285a83-d35a-4263-a57a-1ed55f6e493c",
   "metadata": {},
   "outputs": [
    {
     "name": "stdout",
     "output_type": "stream",
     "text": [
      "--2023-06-14 22:36:43--  https://zihao-openmmlab.obs.cn-east-3.myhuaweicloud.com/20230130-mmseg/dataset/Glomeruli-dataset.zip\n",
      "正在解析主机 zihao-openmmlab.obs.cn-east-3.myhuaweicloud.com (zihao-openmmlab.obs.cn-east-3.myhuaweicloud.com)... 121.36.235.132\n",
      "正在连接 zihao-openmmlab.obs.cn-east-3.myhuaweicloud.com (zihao-openmmlab.obs.cn-east-3.myhuaweicloud.com)|121.36.235.132|:443... 已连接。\n",
      "已发出 HTTP 请求，正在等待回应... 200 OK\n",
      "长度： 2628579054 (2.4G) [application/zip]\n",
      "正在保存至: ‘Glomeruli-dataset.zip’\n",
      "\n",
      "Glomeruli-dataset.z 100%[===================>]   2.45G  11.1MB/s    用时 3m 51s  \n",
      "\n",
      "2023-06-14 22:40:34 (10.9 MB/s) - 已保存 ‘Glomeruli-dataset.zip’ [2628579054/2628579054])\n",
      "\n"
     ]
    }
   ],
   "source": [
    "!rm -rf Glomeruli-dataset.zip Glomeruli-dataset\n",
    "!wget https://zihao-openmmlab.obs.cn-east-3.myhuaweicloud.com/20230130-mmseg/dataset/Glomeruli-dataset.zip\n",
    "!unzip Glomeruli-dataset.zip >> /dev/null # 解压\n",
    "!rm -rf Glomeruli-dataset.zip # 删除压缩包"
   ]
  },
  {
   "cell_type": "markdown",
   "id": "c89366d3-d466-4395-a2b9-96057a53723e",
   "metadata": {},
   "source": [
    "## 删除系统自动生成的多余文件"
   ]
  },
  {
   "cell_type": "markdown",
   "id": "df070cba-1c8f-4966-9b19-72d31481d01e",
   "metadata": {},
   "source": [
    "### 查看待删除的多余文件"
   ]
  },
  {
   "cell_type": "code",
   "execution_count": 4,
   "id": "e3d19ea4-f543-4bdd-acc4-994555857928",
   "metadata": {},
   "outputs": [],
   "source": [
    "!find . -iname '__MACOSX'"
   ]
  },
  {
   "cell_type": "code",
   "execution_count": 5,
   "id": "e11b9512-584e-460a-a9aa-4f39a2c4e0ba",
   "metadata": {},
   "outputs": [],
   "source": [
    "!find . -iname '.DS_Store'"
   ]
  },
  {
   "cell_type": "code",
   "execution_count": 6,
   "id": "7b85e491-0497-49ff-84b6-1991b096c42d",
   "metadata": {},
   "outputs": [
    {
     "name": "stdout",
     "output_type": "stream",
     "text": [
      "./Glomeruli-dataset/.ipynb_checkpoints\n",
      "./Glomeruli-dataset/splits/.ipynb_checkpoints\n"
     ]
    }
   ],
   "source": [
    "!find . -iname '.ipynb_checkpoints'"
   ]
  },
  {
   "cell_type": "markdown",
   "id": "e8cf0d27-418b-41b6-b51f-45a691055714",
   "metadata": {},
   "source": [
    "### 删除多余文件"
   ]
  },
  {
   "cell_type": "code",
   "execution_count": 7,
   "id": "5240771b-5535-4150-90be-c002bd7b8baa",
   "metadata": {},
   "outputs": [],
   "source": [
    "!for i in `find . -iname '__MACOSX'`; do rm -rf $i;done"
   ]
  },
  {
   "cell_type": "code",
   "execution_count": 8,
   "id": "699b2af5-63a1-41fc-adb3-488e3f4bf01e",
   "metadata": {},
   "outputs": [],
   "source": [
    "!for i in `find . -iname '.DS_Store'`; do rm -rf $i;done"
   ]
  },
  {
   "cell_type": "code",
   "execution_count": 9,
   "id": "7e530f61-072a-4d16-a4bf-c8ab99cdeeb1",
   "metadata": {},
   "outputs": [],
   "source": [
    "!for i in `find . -iname '.ipynb_checkpoints'`; do rm -rf $i;done"
   ]
  },
  {
   "cell_type": "markdown",
   "id": "ad1e6fc1-529b-4d29-be05-8525fc089d03",
   "metadata": {},
   "source": [
    "### 验证多余文件已删除"
   ]
  },
  {
   "cell_type": "code",
   "execution_count": 10,
   "id": "2f9228d1-8426-4b48-8b6a-84096b26b095",
   "metadata": {},
   "outputs": [],
   "source": [
    "!find . -iname '__MACOSX'"
   ]
  },
  {
   "cell_type": "code",
   "execution_count": 11,
   "id": "ac3dbe7d-c347-4d67-8074-da4915507526",
   "metadata": {},
   "outputs": [],
   "source": [
    "!find . -iname '.DS_Store'"
   ]
  },
  {
   "cell_type": "code",
   "execution_count": 12,
   "id": "500ec0a3-6399-4d18-b53c-9ea4248635da",
   "metadata": {},
   "outputs": [],
   "source": [
    "!find . -iname '.ipynb_checkpoints'"
   ]
  },
  {
   "cell_type": "code",
   "execution_count": null,
   "id": "33fc1b93-8cc3-4afb-87cd-93286888401c",
   "metadata": {},
   "outputs": [],
   "source": []
  },
  {
   "cell_type": "code",
   "execution_count": null,
   "id": "7cfc529f-a6d9-4eb3-ba18-14273608cb2a",
   "metadata": {},
   "outputs": [],
   "source": []
  }
 ],
 "metadata": {
  "kernelspec": {
   "display_name": "Python 3",
   "language": "python",
   "name": "python3"
  },
  "language_info": {
   "codemirror_mode": {
    "name": "ipython",
    "version": 3
   },
   "file_extension": ".py",
   "mimetype": "text/x-python",
   "name": "python",
   "nbconvert_exporter": "python",
   "pygments_lexer": "ipython3",
   "version": "3.8.16"
  }
 },
 "nbformat": 4,
 "nbformat_minor": 5
}
