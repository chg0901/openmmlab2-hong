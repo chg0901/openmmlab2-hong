{
 "cells": [
  {
   "cell_type": "markdown",
   "id": "9621e3b1-dd42-479c-8b80-6dc6a8e875e3",
   "metadata": {},
   "source": [
    "# 划分训练集和测试集\n",
    "\n",
    "同济子豪兄\n",
    "\n",
    "2023-1-31"
   ]
  },
  {
   "cell_type": "markdown",
   "id": "24228f54-9782-4a9f-9464-880679ec8f30",
   "metadata": {},
   "source": [
    "## 导入工具包"
   ]
  },
  {
   "cell_type": "code",
   "execution_count": 2,
   "id": "447de385-68b8-454d-a60b-524c1bffedca",
   "metadata": {},
   "outputs": [],
   "source": [
    "import os\n",
    "import random\n",
    "\n",
    "import os\n",
    "os.chdir('../../mmsegmentation')"
   ]
  },
  {
   "cell_type": "markdown",
   "id": "50dfb718-8b9a-4560-8274-a1ed124d168f",
   "metadata": {},
   "source": [
    "## 获取全部数据文件名列表"
   ]
  },
  {
   "cell_type": "code",
   "execution_count": 2,
   "id": "a52895dd-f2cc-454e-84bf-732b75ffddeb",
   "metadata": {},
   "outputs": [],
   "source": [
    "PATH_IMAGE = 'Glomeruli-dataset/images'"
   ]
  },
  {
   "cell_type": "code",
   "execution_count": 3,
   "id": "467b3a08-22a9-4454-9bc6-2e2faa52c1a5",
   "metadata": {},
   "outputs": [],
   "source": [
    "all_file_list = os.listdir(PATH_IMAGE)\n",
    "all_file_num = len(all_file_list)\n",
    "random.shuffle(all_file_list) # 随机打乱全部数据文件名列表"
   ]
  },
  {
   "cell_type": "code",
   "execution_count": null,
   "id": "edafb3f2-0734-46be-bd47-5db0a1a92447",
   "metadata": {},
   "outputs": [],
   "source": []
  },
  {
   "cell_type": "markdown",
   "id": "d4010c0e-0587-4360-af64-530424293b93",
   "metadata": {},
   "source": [
    "## 指定训练集和测试集比例"
   ]
  },
  {
   "cell_type": "code",
   "execution_count": 4,
   "id": "4a9d9297-5267-4b6b-ab66-e5d8e0d82d5f",
   "metadata": {},
   "outputs": [],
   "source": [
    "train_ratio = 0.8\n",
    "test_ratio = 1 - train_ratio"
   ]
  },
  {
   "cell_type": "code",
   "execution_count": 5,
   "id": "0748ec32-3eb8-4f97-9a36-7c0c960fe89d",
   "metadata": {},
   "outputs": [],
   "source": [
    "train_file_list = all_file_list[:int(all_file_num*train_ratio)]\n",
    "test_file_list = all_file_list[int(all_file_num*train_ratio):]"
   ]
  },
  {
   "cell_type": "code",
   "execution_count": 6,
   "id": "69664f88-f85f-4049-94db-a890edd5a8ca",
   "metadata": {},
   "outputs": [
    {
     "name": "stdout",
     "output_type": "stream",
     "text": [
      "数据集图像总数 2575\n",
      "训练集划分比例 0.8\n",
      "训练集图像个数 2060\n",
      "测试集图像个数 515\n"
     ]
    }
   ],
   "source": [
    "print('数据集图像总数', all_file_num)\n",
    "print('训练集划分比例', train_ratio)\n",
    "print('训练集图像个数', len(train_file_list))\n",
    "print('测试集图像个数', len(test_file_list))"
   ]
  },
  {
   "cell_type": "code",
   "execution_count": 7,
   "id": "942553f0-3471-4221-9b5c-07d00419433f",
   "metadata": {},
   "outputs": [
    {
     "data": {
      "text/plain": [
       "['SAS_21915_001_5.png',\n",
       " 'SAS_21896_001_62.png',\n",
       " 'SESCAM_1_0_90.png',\n",
       " 'SAS_21904_001_28.png',\n",
       " 'VUHSK_1622_168.png']"
      ]
     },
     "execution_count": 7,
     "metadata": {},
     "output_type": "execute_result"
    }
   ],
   "source": [
    "train_file_list[:5]"
   ]
  },
  {
   "cell_type": "code",
   "execution_count": 8,
   "id": "96ce2551-6ff4-406b-9696-f967e559bf60",
   "metadata": {},
   "outputs": [
    {
     "data": {
      "text/plain": [
       "['SAS_21883_001_85.png',\n",
       " 'SESCAM_6_0_76.png',\n",
       " 'VUHSK_1352_81.png',\n",
       " 'SAS_21908_001_41.png',\n",
       " 'VUHSK_1622_62.png']"
      ]
     },
     "execution_count": 8,
     "metadata": {},
     "output_type": "execute_result"
    }
   ],
   "source": [
    "test_file_list[:5]"
   ]
  },
  {
   "cell_type": "markdown",
   "id": "5d7dd245-fb0d-44ac-9666-6ba21ec33f45",
   "metadata": {},
   "source": [
    "## 生成两个txt划分文件"
   ]
  },
  {
   "cell_type": "code",
   "execution_count": 10,
   "id": "c73d0a8d-fcf5-42cd-b6cf-e3521aee3ffb",
   "metadata": {},
   "outputs": [],
   "source": [
    "# os.mkdir('Glomeruli-dataset/splits')"
   ]
  },
  {
   "cell_type": "code",
   "execution_count": 11,
   "id": "e84a1007-d716-45c3-9d24-ba7c4966f585",
   "metadata": {},
   "outputs": [],
   "source": [
    "# with open('Glomeruli-dataset/splits/train.txt', 'w') as f:\n",
    "#     f.writelines(line.split('.')[0] + '\\n' for line in train_file_list)\n",
    "# with open('Glomeruli-dataset/splits/val.txt', 'w') as f:\n",
    "#     f.writelines(line.split('.')[0] + '\\n' for line in test_file_list)"
   ]
  },
  {
   "cell_type": "code",
   "execution_count": 4,
   "id": "9972ebd8-bbac-4afa-9d10-6885e3147124",
   "metadata": {},
   "outputs": [],
   "source": [
    "import cv2\n",
    "all_file_list = []"
   ]
  },
  {
   "cell_type": "code",
   "execution_count": 3,
   "id": "28cccad8-c540-4b78-9cee-ae59ab0a6b42",
   "metadata": {},
   "outputs": [],
   "source": [
    "PATH_IMAGE = 'Glomeruli-dataset/images'\n",
    "PATH_MASKS = 'Glomeruli-dataset/masks'"
   ]
  },
  {
   "cell_type": "code",
   "execution_count": null,
   "id": "68ac277c-efc6-4b2d-a3b3-30e89fea17fd",
   "metadata": {},
   "outputs": [],
   "source": []
  },
  {
   "cell_type": "code",
   "execution_count": 5,
   "id": "65d9dae6-fbda-4cfb-b990-7a4ec66610ad",
   "metadata": {},
   "outputs": [],
   "source": [
    "for file_name in os.listdir(PATH_IMAGE):\n",
    "    \n",
    "    # 载入图像和标注\n",
    "    # img_path = os.path.join(PATH_IMAGE, file_name)\n",
    "    mask_path = os.path.join(PATH_MASKS, file_name)\n",
    "    # img = cv2.imread(img_path)\n",
    "    mask = cv2.imread(mask_path)\n",
    "    \n",
    "    if 1 in mask:\n",
    "        all_file_list.append(file_name)"
   ]
  },
  {
   "cell_type": "code",
   "execution_count": 8,
   "id": "c144fb5f-f1cc-4808-b0b7-4fb094010e19",
   "metadata": {},
   "outputs": [
    {
     "data": {
      "text/plain": [
       "(552, 2575)"
      ]
     },
     "execution_count": 8,
     "metadata": {},
     "output_type": "execute_result"
    }
   ],
   "source": [
    "len(all_file_list),len(os.listdir(PATH_IMAGE))"
   ]
  },
  {
   "cell_type": "code",
   "execution_count": 9,
   "id": "025e4640-bf95-4852-8bc7-cd8e0cd9c44b",
   "metadata": {},
   "outputs": [
    {
     "name": "stdout",
     "output_type": "stream",
     "text": [
      "数据集图像总数 552\n",
      "训练集划分比例 0.9\n",
      "训练集图像个数 496\n",
      "测试集图像个数 56\n"
     ]
    }
   ],
   "source": [
    "# all_file_list = os.listdir(PATH_IMAGE)\n",
    "all_file_num = len(all_file_list)\n",
    "random.shuffle(all_file_list) # 随机打乱全部数据文件名列表\n",
    "\n",
    "train_ratio = 0.9\n",
    "test_ratio = 1 - train_ratio\n",
    "train_file_list = all_file_list[:int(all_file_num*train_ratio)]\n",
    "test_file_list = all_file_list[int(all_file_num*train_ratio):]\n",
    "print('数据集图像总数', all_file_num)\n",
    "print('训练集划分比例', train_ratio)\n",
    "print('训练集图像个数', len(train_file_list))\n",
    "print('测试集图像个数', len(test_file_list))"
   ]
  },
  {
   "cell_type": "code",
   "execution_count": 10,
   "id": "185d2dfd-38d6-4576-91d3-c117ea546abd",
   "metadata": {},
   "outputs": [],
   "source": [
    "os.mkdir('Glomeruli-dataset/splits2')\n",
    "with open('Glomeruli-dataset/splits2/train.txt', 'w') as f:\n",
    "    f.writelines(line.split('.')[0] + '\\n' for line in train_file_list)\n",
    "with open('Glomeruli-dataset/splits2/val.txt', 'w') as f:\n",
    "    f.writelines(line.split('.')[0] + '\\n' for line in test_file_list)"
   ]
  }
 ],
 "metadata": {
  "kernelspec": {
   "display_name": "Python 3",
   "language": "python",
   "name": "python3"
  },
  "language_info": {
   "codemirror_mode": {
    "name": "ipython",
    "version": 3
   },
   "file_extension": ".py",
   "mimetype": "text/x-python",
   "name": "python",
   "nbconvert_exporter": "python",
   "pygments_lexer": "ipython3",
   "version": "3.8.16"
  }
 },
 "nbformat": 4,
 "nbformat_minor": 5
}
