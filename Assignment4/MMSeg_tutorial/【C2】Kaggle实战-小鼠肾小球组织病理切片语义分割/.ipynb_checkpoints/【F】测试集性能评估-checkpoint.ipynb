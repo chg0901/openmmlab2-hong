{
 "cells": [
  {
   "cell_type": "markdown",
   "id": "a4689c4e-20bd-4b01-88f3-6274db8a330d",
   "metadata": {},
   "source": [
    "# 测试集性能评估\n",
    "\n",
    "同济子豪兄 2023-2-6"
   ]
  },
  {
   "cell_type": "markdown",
   "id": "7f6ef6e3-a5aa-473c-bfc8-bfec53484cd1",
   "metadata": {},
   "source": [
    "## 添加数据集类"
   ]
  },
  {
   "cell_type": "code",
   "execution_count": 2,
   "id": "24e63905-6e8c-44f8-a6be-ae459e3bf8a0",
   "metadata": {},
   "outputs": [],
   "source": [
    "import os\n",
    "os.chdir('../../mmsegmentation')"
   ]
  },
  {
   "cell_type": "code",
   "execution_count": 2,
   "id": "eb3d19c4-3f5e-4841-ad6f-94dba438d229",
   "metadata": {},
   "outputs": [
    {
     "name": "stdout",
     "output_type": "stream",
     "text": [
      "--2023-06-15 15:43:38--  https://zihao-openmmlab.obs.cn-east-3.myhuaweicloud.com/20230130-mmseg/dataset/StanfordBackgroundDataset.py\n",
      "正在解析主机 zihao-openmmlab.obs.cn-east-3.myhuaweicloud.com (zihao-openmmlab.obs.cn-east-3.myhuaweicloud.com)... 121.36.235.132\n",
      "正在连接 zihao-openmmlab.obs.cn-east-3.myhuaweicloud.com (zihao-openmmlab.obs.cn-east-3.myhuaweicloud.com)|121.36.235.132|:443... 已连接。\n",
      "已发出 HTTP 请求，正在等待回应... 200 OK\n",
      "长度： 455 [binary/octet-stream]\n",
      "正在保存至: ‘../mmsegmentation/mmseg/datasets/StanfordBackgroundDataset.py’\n",
      "\n",
      "../mmsegmentation/m 100%[===================>]     455  --.-KB/s    用时 0s      \n",
      "\n",
      "2023-06-15 15:43:39 (31.8 MB/s) - 已保存 ‘../mmsegmentation/mmseg/datasets/StanfordBackgroundDataset.py’ [455/455])\n",
      "\n",
      "--2023-06-15 15:43:40--  https://zihao-openmmlab.obs.cn-east-3.myhuaweicloud.com/20230130-mmseg/dataset/__init__.py\n",
      "正在解析主机 zihao-openmmlab.obs.cn-east-3.myhuaweicloud.com (zihao-openmmlab.obs.cn-east-3.myhuaweicloud.com)... 121.36.235.132\n",
      "正在连接 zihao-openmmlab.obs.cn-east-3.myhuaweicloud.com (zihao-openmmlab.obs.cn-east-3.myhuaweicloud.com)|121.36.235.132|:443... 已连接。\n",
      "已发出 HTTP 请求，正在等待回应... 200 OK\n",
      "长度： 2659 (2.6K) [binary/octet-stream]\n",
      "正在保存至: ‘../mmsegmentation/mmseg/datasets/__init__.py’\n",
      "\n",
      "../mmsegmentation/m 100%[===================>]   2.60K  --.-KB/s    用时 0.001s  \n",
      "\n",
      "2023-06-15 15:43:40 (2.13 MB/s) - 已保存 ‘../mmsegmentation/mmseg/datasets/__init__.py’ [2659/2659])\n",
      "\n"
     ]
    }
   ],
   "source": [
    "# 数据集配置文件\n",
    "!wget https://zihao-openmmlab.obs.cn-east-3.myhuaweicloud.com/20230130-mmseg/dataset/StanfordBackgroundDataset.py -O ../mmsegmentation/mmseg/datasets/StanfordBackgroundDataset.py\n",
    "\n",
    "# 修改 ../mmsegmentation/mmseg/datasets/__init__.py，添加数据集\n",
    "!wget https://zihao-openmmlab.obs.cn-east-3.myhuaweicloud.com/20230130-mmseg/dataset/__init__.py -O ../mmsegmentation/mmseg/datasets/__init__.py\n"
   ]
  },
  {
   "cell_type": "markdown",
   "id": "e1139095-730d-4560-ab90-207383879bcd",
   "metadata": {},
   "source": [
    "## 测试集精度指标"
   ]
  },
  {
   "cell_type": "code",
   "execution_count": null,
   "id": "f2857ef0-e7aa-4f9b-9a54-f14bd7ccb412",
   "metadata": {
    "scrolled": true
   },
   "outputs": [],
   "source": [
    "!python ../mmsegmentation/tools/test.py new_cfg.py ./work_dirs/tutorial/iter_2400_best_iou67acc81.pth"
   ]
  },
  {
   "cell_type": "markdown",
   "id": "70071048-f8f4-4f11-bfb8-e23044faa521",
   "metadata": {},
   "source": [
    "## 速度指标-FPS"
   ]
  },
  {
   "cell_type": "code",
   "execution_count": 4,
   "id": "c9c16b59-52d4-4367-b1ac-8fbab3e1194e",
   "metadata": {},
   "outputs": [
    {
     "name": "stdout",
     "output_type": "stream",
     "text": [
      "Run 1:\n",
      "/home/cine/Documents/GitHub/mmsegmentation/mmseg/models/decode_heads/decode_head.py:120: UserWarning: For binary segmentation, we suggest using`out_channels = 1` to define the outputchannels of segmentor, and use `threshold`to convert `seg_logits` into a predictionapplying a threshold\n",
      "  warnings.warn('For binary segmentation, we suggest using'\n",
      "/home/cine/Documents/GitHub/mmsegmentation/mmseg/models/builder.py:36: UserWarning: ``build_loss`` would be deprecated soon, please use ``mmseg.registry.MODELS.build()`` \n",
      "  warnings.warn('``build_loss`` would be deprecated soon, please use '\n",
      "/home/cine/Documents/GitHub/mmsegmentation/mmseg/models/losses/cross_entropy_loss.py:235: UserWarning: Default ``avg_non_ignore`` is False, if you would like to ignore the certain label and average loss over non-ignore labels, which is the same with PyTorch official cross_entropy, set ``avg_non_ignore=True``.\n",
      "  warnings.warn(\n",
      "Loads checkpoint by local backend from path: ./work_dirs/tutorial/iter_800.pth\n",
      "Done image [50 / 200], fps: 41.37 img / s\n",
      "Done image [100/ 200], fps: 41.64 img / s\n",
      "Done image [150/ 200], fps: 41.55 img / s\n",
      "Done image [200/ 200], fps: 41.59 img / s\n",
      "Overall fps: 41.59 img / s\n",
      "\n",
      "Average fps of 1 evaluations: 41.59\n",
      "The variance of 1 evaluations: 0.0\n"
     ]
    }
   ],
   "source": [
    "!python ../mmsegmentation/tools/analysis_tools/benchmark.py new_cfg.py ./work_dirs/tutorial/iter_800.pth"
   ]
  },
  {
   "cell_type": "code",
   "execution_count": null,
   "id": "d516ea1e-931f-419f-9cc6-90b337191c2b",
   "metadata": {},
   "outputs": [],
   "source": []
  }
 ],
 "metadata": {
  "kernelspec": {
   "display_name": "Python 3",
   "language": "python",
   "name": "python3"
  },
  "language_info": {
   "codemirror_mode": {
    "name": "ipython",
    "version": 3
   },
   "file_extension": ".py",
   "mimetype": "text/x-python",
   "name": "python",
   "nbconvert_exporter": "python",
   "pygments_lexer": "ipython3",
   "version": "3.8.16"
  }
 },
 "nbformat": 4,
 "nbformat_minor": 5
}
