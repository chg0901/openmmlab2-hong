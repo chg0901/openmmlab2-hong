{
 "cells": [
  {
   "cell_type": "markdown",
   "id": "df0a25e6-6f49-4f96-af23-b1e81fb10ab4",
   "metadata": {},
   "source": [
    "# 预训练语义分割模型预测-视频\n",
    "\n",
    "同济子豪兄：https://space.bilibili.com/1900783\n",
    "\n",
    "2022-10-18 6-11"
   ]
  },
  {
   "cell_type": "markdown",
   "id": "0545b852-5e69-45b6-abbc-1483b7a434d6",
   "metadata": {},
   "source": [
    "## 进入 mmsegmentation 主目录"
   ]
  },
  {
   "cell_type": "code",
   "execution_count": 1,
   "id": "2e564fa3-cabb-49e9-b721-163e162fbb0b",
   "metadata": {},
   "outputs": [
    {
     "name": "stdout",
     "output_type": "stream",
     "text": [
      "/home/cine/Documents/GitHub/MMSeg_tutorial/【作业】西瓜多类别语义分割\n"
     ]
    }
   ],
   "source": [
    "!pwd"
   ]
  },
  {
   "cell_type": "code",
   "execution_count": 4,
   "id": "c24d56aa-5528-4561-bb1c-33bcffe2c852",
   "metadata": {},
   "outputs": [],
   "source": [
    "import os\n",
    "os.chdir('../../mmsegmentation')"
   ]
  },
  {
   "cell_type": "code",
   "execution_count": 5,
   "id": "04fb7cdd-ccdc-44fe-a975-1d91d21673ed",
   "metadata": {},
   "outputs": [
    {
     "name": "stdout",
     "output_type": "stream",
     "text": [
      "/home/cine/Documents/GitHub/mmsegmentation\n"
     ]
    }
   ],
   "source": [
    "!pwd"
   ]
  },
  {
   "cell_type": "markdown",
   "id": "f7e3673e-a5f2-46f0-a87f-0069dd165485",
   "metadata": {},
   "source": [
    "## 视频预测-命令行（不推荐，慢）"
   ]
  },
  {
   "cell_type": "code",
   "execution_count": 6,
   "id": "792ec8de-1785-4d72-9f6f-704f596b6519",
   "metadata": {
    "scrolled": true
   },
   "outputs": [],
   "source": [
    "# !python demo/video_demo.py \\\n",
    "#         data/watermelon.mp4 \\\n",
    "#         cspnet-Watermelon87_Semantic_Seg_Mask_20230616.py\\\n",
    "#         work_dirs/Watermelon87_Semantic_Seg_Mask/best_mAcc_iter_7600.pth \\\n",
    "#         --device cuda:0 \\\n",
    "#         --output-file outputs/watermelon_pred.mp4 \\\n",
    "#         --opacity 0.5"
   ]
  },
  {
   "cell_type": "markdown",
   "id": "dd646001-89ad-4508-b709-717a18230316",
   "metadata": {},
   "source": [
    "## 视频预测-Python API（推荐，快）"
   ]
  },
  {
   "cell_type": "markdown",
   "id": "4c7fbae8-e700-41f4-8b75-c01224883dee",
   "metadata": {},
   "source": [
    "### 导入工具包"
   ]
  },
  {
   "cell_type": "code",
   "execution_count": 6,
   "id": "75bdbf74-66bb-4e0e-abb1-6e4f48a7f0c0",
   "metadata": {},
   "outputs": [],
   "source": [
    "import numpy as np\n",
    "import time\n",
    "import shutil\n",
    "\n",
    "import torch\n",
    "\n",
    "from PIL import Image\n",
    "import cv2\n",
    "\n",
    "import mmcv\n",
    "import mmengine\n",
    "from mmseg.apis import inference_model\n",
    "from mmseg.utils import register_all_modules\n",
    "register_all_modules()\n",
    "\n",
    "from mmseg.datasets import CityscapesDataset"
   ]
  },
  {
   "cell_type": "markdown",
   "id": "cd1ff19c-ae76-4203-aa61-b2c2f105c6ad",
   "metadata": {},
   "source": [
    "### 载入模型"
   ]
  },
  {
   "cell_type": "code",
   "execution_count": 7,
   "id": "6710ee9f-d7b9-4ca7-ba84-84499ec5353f",
   "metadata": {},
   "outputs": [],
   "source": [
    "# 模型 config 配置文件\n",
    "config_file = 'pspnet-Watermelon87_Semantic_Seg_Mask_20230616.py'\n",
    "\n",
    "# 模型 checkpoint 权重文件\n",
    "checkpoint_file = 'work_dirs/Watermelon87_Semantic_Seg_Mask/best_mAcc_iter_7600.pth'\n"
   ]
  },
  {
   "cell_type": "code",
   "execution_count": 8,
   "id": "c891afa1-1f5f-4a16-ae38-97b72c5966a4",
   "metadata": {},
   "outputs": [
    {
     "name": "stderr",
     "output_type": "stream",
     "text": [
      "/home/cine/Documents/GitHub/mmsegmentation/mmseg/models/builder.py:36: UserWarning: ``build_loss`` would be deprecated soon, please use ``mmseg.registry.MODELS.build()`` \n",
      "  warnings.warn('``build_loss`` would be deprecated soon, please use '\n",
      "/home/cine/Documents/GitHub/mmsegmentation/mmseg/models/losses/cross_entropy_loss.py:235: UserWarning: Default ``avg_non_ignore`` is False, if you would like to ignore the certain label and average loss over non-ignore labels, which is the same with PyTorch official cross_entropy, set ``avg_non_ignore=True``.\n",
      "  warnings.warn(\n"
     ]
    },
    {
     "name": "stdout",
     "output_type": "stream",
     "text": [
      "Loads checkpoint by local backend from path: work_dirs/Watermelon87_Semantic_Seg_Mask/best_mAcc_iter_7600.pth\n"
     ]
    }
   ],
   "source": [
    "from mmseg.apis import init_model\n",
    "model = init_model(config_file, checkpoint_file, device='cuda:0')\n",
    "\n",
    "from mmengine.model.utils import revert_sync_batchnorm\n",
    "if not torch.cuda.is_available():\n",
    "    model = revert_sync_batchnorm(model)"
   ]
  },
  {
   "cell_type": "markdown",
   "id": "e81912ec-c8ff-4d63-8c4b-f0b9eab00da7",
   "metadata": {},
   "source": [
    "### 输入视频路径"
   ]
  },
  {
   "cell_type": "code",
   "execution_count": 9,
   "id": "a0ae61f8-23ec-4f99-8951-ebc1522280b7",
   "metadata": {},
   "outputs": [],
   "source": [
    "input_video = 'data/watermelon.mp4'"
   ]
  },
  {
   "cell_type": "markdown",
   "id": "4dc3f035-8390-4be4-aefe-770990a04f78",
   "metadata": {},
   "source": [
    "### 创建临时文件夹，存放每帧结果"
   ]
  },
  {
   "cell_type": "code",
   "execution_count": 10,
   "id": "9d92a9e1-040d-4c4b-881d-f16053086db0",
   "metadata": {},
   "outputs": [
    {
     "name": "stdout",
     "output_type": "stream",
     "text": [
      "创建临时文件夹 20230616223419 用于存放每帧预测结果\n"
     ]
    }
   ],
   "source": [
    "temp_out_dir = time.strftime('%Y%m%d%H%M%S')\n",
    "os.mkdir(temp_out_dir)\n",
    "print('创建临时文件夹 {} 用于存放每帧预测结果'.format(temp_out_dir))"
   ]
  },
  {
   "cell_type": "markdown",
   "id": "d1911cfc-58b1-4121-94a9-c6e8a779f036",
   "metadata": {},
   "source": [
    "## 视频单帧预测"
   ]
  },
  {
   "cell_type": "code",
   "execution_count": 11,
   "id": "e9cd07f0-80dd-4fab-923a-719bc6ba22e0",
   "metadata": {},
   "outputs": [],
   "source": [
    "# 获取 Cityscapes 街景数据集 类别名和调色板\n",
    "from mmseg.datasets import cityscapes\n",
    "classes = cityscapes.CityscapesDataset.METAINFO['classes']\n",
    "palette = cityscapes.CityscapesDataset.METAINFO['palette']"
   ]
  },
  {
   "cell_type": "code",
   "execution_count": 12,
   "id": "aa2f0568-50c6-4816-b820-cf597a5ef099",
   "metadata": {},
   "outputs": [],
   "source": [
    "def pridict_single_frame(img, opacity=0.2):\n",
    "    \n",
    "    result = inference_model(model, img)\n",
    "    \n",
    "    # 将分割图按调色板染色\n",
    "    seg_map = np.array(result.pred_sem_seg.data[0].detach().cpu().numpy()).astype('uint8')\n",
    "    seg_img = Image.fromarray(seg_map).convert('P')\n",
    "    seg_img.putpalette(np.array(palette, dtype=np.uint8))\n",
    "    \n",
    "    show_img = (np.array(seg_img.convert('RGB')))*(1-opacity) + img*opacity\n",
    "    \n",
    "    return show_img"
   ]
  },
  {
   "cell_type": "markdown",
   "id": "25a3f5bf-f6fa-4f3b-832a-e84ce7437ed1",
   "metadata": {},
   "source": [
    "### 视频逐帧预测"
   ]
  },
  {
   "cell_type": "code",
   "execution_count": 13,
   "id": "4b53cf47-d1eb-4b77-97bd-8ce01dc3cbc4",
   "metadata": {},
   "outputs": [
    {
     "name": "stdout",
     "output_type": "stream",
     "text": [
      "[                                                  ] 0/84, elapsed: 0s, ETA:"
     ]
    },
    {
     "ename": "ValueError",
     "evalue": "conversion not supported",
     "output_type": "error",
     "traceback": [
      "\u001b[0;31m---------------------------------------------------------------------------\u001b[0m",
      "\u001b[0;31mValueError\u001b[0m                                Traceback (most recent call last)",
      "Input \u001b[0;32mIn [13]\u001b[0m, in \u001b[0;36m<cell line: 7>\u001b[0;34m()\u001b[0m\n\u001b[1;32m      6\u001b[0m \u001b[38;5;66;03m# 对视频逐帧处理\u001b[39;00m\n\u001b[1;32m      7\u001b[0m \u001b[38;5;28;01mfor\u001b[39;00m frame_id, img \u001b[38;5;129;01min\u001b[39;00m \u001b[38;5;28menumerate\u001b[39m(imgs):\n\u001b[1;32m      8\u001b[0m     \n\u001b[1;32m      9\u001b[0m     \u001b[38;5;66;03m## 处理单帧画面\u001b[39;00m\n\u001b[0;32m---> 10\u001b[0m     show_img \u001b[38;5;241m=\u001b[39m \u001b[43mpridict_single_frame\u001b[49m\u001b[43m(\u001b[49m\u001b[43mimg\u001b[49m\u001b[43m,\u001b[49m\u001b[43m \u001b[49m\u001b[43mopacity\u001b[49m\u001b[38;5;241;43m=\u001b[39;49m\u001b[38;5;241;43m0.15\u001b[39;49m\u001b[43m)\u001b[49m\n\u001b[1;32m     11\u001b[0m     temp_path \u001b[38;5;241m=\u001b[39m \u001b[38;5;124mf\u001b[39m\u001b[38;5;124m'\u001b[39m\u001b[38;5;132;01m{\u001b[39;00mtemp_out_dir\u001b[38;5;132;01m}\u001b[39;00m\u001b[38;5;124m/\u001b[39m\u001b[38;5;132;01m{\u001b[39;00mframe_id\u001b[38;5;132;01m:\u001b[39;00m\u001b[38;5;124m06d\u001b[39m\u001b[38;5;132;01m}\u001b[39;00m\u001b[38;5;124m.jpg\u001b[39m\u001b[38;5;124m'\u001b[39m \u001b[38;5;66;03m# 保存语义分割预测结果图像至临时文件夹\u001b[39;00m\n\u001b[1;32m     12\u001b[0m     cv2\u001b[38;5;241m.\u001b[39mimwrite(temp_path, show_img)\n",
      "Input \u001b[0;32mIn [12]\u001b[0m, in \u001b[0;36mpridict_single_frame\u001b[0;34m(img, opacity)\u001b[0m\n\u001b[1;32m      7\u001b[0m seg_img \u001b[38;5;241m=\u001b[39m Image\u001b[38;5;241m.\u001b[39mfromarray(seg_map)\u001b[38;5;241m.\u001b[39mconvert(\u001b[38;5;124m'\u001b[39m\u001b[38;5;124mP\u001b[39m\u001b[38;5;124m'\u001b[39m)\n\u001b[1;32m      8\u001b[0m seg_img\u001b[38;5;241m.\u001b[39mputpalette(np\u001b[38;5;241m.\u001b[39marray(palette, dtype\u001b[38;5;241m=\u001b[39mnp\u001b[38;5;241m.\u001b[39muint8))\n\u001b[0;32m---> 10\u001b[0m show_img \u001b[38;5;241m=\u001b[39m (np\u001b[38;5;241m.\u001b[39marray(\u001b[43mseg_img\u001b[49m\u001b[38;5;241;43m.\u001b[39;49m\u001b[43mconvert\u001b[49m\u001b[43m(\u001b[49m\u001b[38;5;124;43m'\u001b[39;49m\u001b[38;5;124;43mBGR\u001b[39;49m\u001b[38;5;124;43m'\u001b[39;49m\u001b[43m)\u001b[49m))\u001b[38;5;241m*\u001b[39m(\u001b[38;5;241m1\u001b[39m\u001b[38;5;241m-\u001b[39mopacity) \u001b[38;5;241m+\u001b[39m img\u001b[38;5;241m*\u001b[39mopacity\n\u001b[1;32m     12\u001b[0m \u001b[38;5;28;01mreturn\u001b[39;00m show_img\n",
      "File \u001b[0;32m~/miniconda3/envs/openmmlab-pose/lib/python3.8/site-packages/PIL/Image.py:1077\u001b[0m, in \u001b[0;36mImage.convert\u001b[0;34m(self, mode, matrix, dither, palette, colors)\u001b[0m\n\u001b[1;32m   1074\u001b[0m     dither \u001b[38;5;241m=\u001b[39m Dither\u001b[38;5;241m.\u001b[39mFLOYDSTEINBERG\n\u001b[1;32m   1076\u001b[0m \u001b[38;5;28;01mtry\u001b[39;00m:\n\u001b[0;32m-> 1077\u001b[0m     im \u001b[38;5;241m=\u001b[39m \u001b[38;5;28;43mself\u001b[39;49m\u001b[38;5;241;43m.\u001b[39;49m\u001b[43mim\u001b[49m\u001b[38;5;241;43m.\u001b[39;49m\u001b[43mconvert\u001b[49m\u001b[43m(\u001b[49m\u001b[43mmode\u001b[49m\u001b[43m,\u001b[49m\u001b[43m \u001b[49m\u001b[43mdither\u001b[49m\u001b[43m)\u001b[49m\n\u001b[1;32m   1078\u001b[0m \u001b[38;5;28;01mexcept\u001b[39;00m \u001b[38;5;167;01mValueError\u001b[39;00m:\n\u001b[1;32m   1079\u001b[0m     \u001b[38;5;28;01mtry\u001b[39;00m:\n\u001b[1;32m   1080\u001b[0m         \u001b[38;5;66;03m# normalize source image and try again\u001b[39;00m\n",
      "\u001b[0;31mValueError\u001b[0m: conversion not supported"
     ]
    }
   ],
   "source": [
    "# 读入待预测视频\n",
    "imgs = mmcv.VideoReader(input_video)\n",
    "\n",
    "prog_bar = mmengine.ProgressBar(len(imgs))\n",
    "\n",
    "# 对视频逐帧处理\n",
    "for frame_id, img in enumerate(imgs):\n",
    "    \n",
    "    ## 处理单帧画面\n",
    "    show_img = pridict_single_frame(img, opacity=0.15)\n",
    "    temp_path = f'{temp_out_dir}/{frame_id:06d}.jpg' # 保存语义分割预测结果图像至临时文件夹\n",
    "    cv2.imwrite(temp_path, show_img)\n",
    "\n",
    "    prog_bar.update() # 更新进度条\n",
    "\n",
    "# 把每一帧串成视频文件\n",
    "mmcv.frames2video(temp_out_dir, 'outputs/watermelon_pred.mp4', fps=imgs.fps, fourcc='mp4v')\n",
    "\n",
    "shutil.rmtree(temp_out_dir) # 删除存放每帧画面的临时文件夹\n",
    "print('删除临时文件夹', temp_out_dir)"
   ]
  },
  {
   "cell_type": "code",
   "execution_count": null,
   "id": "254f3d79-b85b-480b-acda-cf8dc024cb55",
   "metadata": {},
   "outputs": [],
   "source": []
  },
  {
   "cell_type": "code",
   "execution_count": 16,
   "id": "6cc7aa37-d3a0-466c-a5f4-3f581f92e4a6",
   "metadata": {},
   "outputs": [
    {
     "name": "stdout",
     "output_type": "stream",
     "text": [
      "MoviePy - Building file ./data/watermelon.gif with imageio.\n"
     ]
    },
    {
     "name": "stderr",
     "output_type": "stream",
     "text": [
      "                                                             \r"
     ]
    }
   ],
   "source": [
    "from moviepy.editor import VideoFileClip\n",
    "\n",
    "videoClip = VideoFileClip(\"./data/watermelon.mp4\")\n",
    "\n",
    "videoClip.write_gif(\"./data/watermelon.gif\")"
   ]
  },
  {
   "cell_type": "code",
   "execution_count": 18,
   "id": "8457ff32-1deb-4939-ae0e-ce1230db6932",
   "metadata": {},
   "outputs": [
    {
     "name": "stdout",
     "output_type": "stream",
     "text": [
      "MoviePy - Building file ./outputs/watermelon_pred.gif with imageio.\n"
     ]
    },
    {
     "name": "stderr",
     "output_type": "stream",
     "text": [
      "                                                             \r"
     ]
    }
   ],
   "source": [
    "from moviepy.editor import VideoFileClip\n",
    "\n",
    "videoClip = VideoFileClip(\"outputs/watermelon_pred.mp4\")\n",
    "\n",
    "videoClip.write_gif(\"./outputs/watermelon_pred.gif\")"
   ]
  },
  {
   "cell_type": "code",
   "execution_count": null,
   "id": "88701ad0-139b-40d3-9831-84b0c1e643e4",
   "metadata": {},
   "outputs": [],
   "source": [
    "!VideoFileClip"
   ]
  },
  {
   "cell_type": "code",
   "execution_count": 1,
   "id": "840aa912-d501-425c-9e48-00dbaeff7138",
   "metadata": {},
   "outputs": [
    {
     "name": "stdout",
     "output_type": "stream",
     "text": [
      "/bin/bash: 行 1: ffmpeg: 未找到命令\n"
     ]
    }
   ],
   "source": [
    "!ffmpeg -i ./data/watermelon.mp4 ./data/watermelon2.gif"
   ]
  },
  {
   "cell_type": "code",
   "execution_count": null,
   "id": "6ed7b2a4-881e-4329-998b-18fe90c44bb3",
   "metadata": {},
   "outputs": [],
   "source": []
  }
 ],
 "metadata": {
  "kernelspec": {
   "display_name": "Python 3",
   "language": "python",
   "name": "python3"
  },
  "language_info": {
   "codemirror_mode": {
    "name": "ipython",
    "version": 3
   },
   "file_extension": ".py",
   "mimetype": "text/x-python",
   "name": "python",
   "nbconvert_exporter": "python",
   "pygments_lexer": "ipython3",
   "version": "3.8.16"
  }
 },
 "nbformat": 4,
 "nbformat_minor": 5
}
